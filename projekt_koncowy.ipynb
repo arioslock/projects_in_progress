{
 "cells": [
  {
   "cell_type": "code",
   "execution_count": 3,
   "metadata": {},
   "outputs": [],
   "source": [
    "import pandas as pd\n",
    "import numpy as np\n",
    "import re\n",
    "import spacy"
   ]
  },
  {
   "cell_type": "code",
   "execution_count": 4,
   "metadata": {},
   "outputs": [],
   "source": [
    "pd.set_option('display.max_colwidth', 1000)"
   ]
  },
  {
   "cell_type": "code",
   "execution_count": 5,
   "metadata": {},
   "outputs": [],
   "source": [
    "all_amz_go = pd.read_csv('F:\\\\mailae_g\\\\ALL_MAG_2021+2022.csv', sep=';' )\n",
    "all_cus_go = pd.read_csv('F:\\\\mailae_g\\\\ALL_PL_2022.csv', sep=';')"
   ]
  },
  {
   "cell_type": "code",
   "execution_count": 6,
   "metadata": {},
   "outputs": [
    {
     "data": {
      "text/html": [
       "<div>\n",
       "<style scoped>\n",
       "    .dataframe tbody tr th:only-of-type {\n",
       "        vertical-align: middle;\n",
       "    }\n",
       "\n",
       "    .dataframe tbody tr th {\n",
       "        vertical-align: top;\n",
       "    }\n",
       "\n",
       "    .dataframe thead th {\n",
       "        text-align: right;\n",
       "    }\n",
       "</style>\n",
       "<table border=\"1\" class=\"dataframe\">\n",
       "  <thead>\n",
       "    <tr style=\"text-align: right;\">\n",
       "      <th></th>\n",
       "      <th>Ticket Id</th>\n",
       "      <th>Subject</th>\n",
       "      <th>Description</th>\n",
       "      <th>Source</th>\n",
       "      <th>Requester Email</th>\n",
       "      <th>Created Time</th>\n",
       "      <th>Agent interactions</th>\n",
       "      <th>Customer interactions</th>\n",
       "      <th>Tags</th>\n",
       "    </tr>\n",
       "  </thead>\n",
       "  <tbody>\n",
       "    <tr>\n",
       "      <th>0</th>\n",
       "      <td>16477</td>\n",
       "      <td>Frage von Amazon-Kunde Anja Klose</td>\n",
       "      <td>Skraut Home- Glanzlack Wohnwand. Von dem großen hängeschrank der Boden ist beschädigt. Beim Dübel loch ist was abgebrochen.</td>\n",
       "      <td>Email</td>\n",
       "      <td>freshdeskuser_18653026@channelreply.email</td>\n",
       "      <td>13 09 2021 15:58</td>\n",
       "      <td>26</td>\n",
       "      <td>18</td>\n",
       "      <td>lukfurniture_de,cr,lukfurniture,rynek_de</td>\n",
       "    </tr>\n",
       "    <tr>\n",
       "      <th>1</th>\n",
       "      <td>83046</td>\n",
       "      <td>Frage von Amazon-Kunde Furkan Aydin(Bestellung: 306-1709843-3097134)</td>\n",
       "      <td>Hallo Die schiene von der schublade ist kaputt da fallen die kleinen Kugeln raus. Ich möchte gerne 2 schienen.</td>\n",
       "      <td>Email</td>\n",
       "      <td>freshdeskuser_20098643@channelreply.email</td>\n",
       "      <td>7 12 2021 22:56</td>\n",
       "      <td>12</td>\n",
       "      <td>6</td>\n",
       "      <td>lukfurniture_de,cr,lukfurniture,rynek_de</td>\n",
       "    </tr>\n",
       "    <tr>\n",
       "      <th>2</th>\n",
       "      <td>92323</td>\n",
       "      <td>Return policy enquiry from Amazon customer Mrs Susan Tolley(Order: 204-9663987-5997940)</td>\n",
       "      <td>Hi I purchased the welder back in April 2021 but due to ill health I have only been able to try the welder today. Unfortunately It does not work. I think there maybe a problem with the MIG output to the switch on the gun. I have used a test meter on the contacts and have no output. Please can you advise. Thankyou.</td>\n",
       "      <td>Email</td>\n",
       "      <td>freshdeskuser_20274812@channelreply.email</td>\n",
       "      <td>16 12 2021 13:51</td>\n",
       "      <td>65</td>\n",
       "      <td>40</td>\n",
       "      <td>cr,rynek_uk,allweld,allweld_uk</td>\n",
       "    </tr>\n",
       "    <tr>\n",
       "      <th>3</th>\n",
       "      <td>165940</td>\n",
       "      <td>Frage von Amazon-Kunde Fjolla(Bestellung: 306-7063158-3705902)</td>\n",
       "      <td>Sehr Geehrte Damen und Herren Es geht um meine Bestellung die ich seit Wochen gemacht habe.Auf meine Bestellung steht dass mein Paket möglicherweise verloren gegangen ist.Ich habe dafür Geld bezahlt.Wie können sie mir weiter helfen? Mit Freundliche Grüßen</td>\n",
       "      <td>Email</td>\n",
       "      <td>freshdeskuser_21788405@channelreply.email</td>\n",
       "      <td>19 03 2022 17:47</td>\n",
       "      <td>14</td>\n",
       "      <td>9</td>\n",
       "      <td>lukfurniture_de,cr,lukfurniture,rynek_de</td>\n",
       "    </tr>\n",
       "    <tr>\n",
       "      <th>4</th>\n",
       "      <td>192109</td>\n",
       "      <td>? Sie haben einen neuen Preisvorschlag: EUR 60,00 für NeoNail Nagelstudio ... (373940992894)</td>\n",
       "      <td>Preisvorschlag: EUR 60,00 Preisvorschlag: EUR 60,00 Jetzt antworten: https://www.ebay.de/ulk/showOffers/373940992894?boolp=1&amp;amp;mkevt=1&amp;amp;mkpid=0&amp;amp;emsid=e12060.m3112.l44861&amp;amp;mkcid=26&amp;amp;ch=osgood&amp;amp;euid=0fe5676504234b2c849a719471b7060f&amp;amp;bu=45010273334&amp;amp;osub=-1%7E1&amp;amp;crd=20220424091836&amp;amp;segname=12060&amp;amp;sojTags=ch%3Dch%2Cbu%3Dbu%2Cosub%3Dosub%2Ccrd%3Dcrd%2Csegname%3Dsegname%2Cchnl%3Dmkcid Artikel ansehen: https://www.ebay.de/itm/373940992894?mkevt=1&amp;amp;mkpid=0&amp;amp;emsid=e12060.m3112.l44862&amp;amp;mkcid=26&amp;amp;ch=osgood&amp;amp;euid=0fe5676504234b2c849a719471b7060f&amp;amp;bu=45010273334&amp;amp;osub=-1%7E1&amp;amp;crd=20220424091836&amp;amp;segname=12060&amp;amp;sojTags=ch%3Dch%2Cbu%3Dbu%2Cosub%3Dosub%2Ccrd%3Dcrd%2Csegname%3Dsegname%2Cchnl%3Dmkcid Unter Angebotspreis EUR 4,89 Dieses Angebot sichern 9 Beobachter meliba601: https://www.ebay.de/ulk/usr/meliba601?mkevt=1&amp;amp;mkpid=0&amp;amp;emsid=e12060.m3112.l44863&amp;amp;mkcid=26&amp;amp;ch=osgood&amp;amp;euid=0fe5676504234b2c849a719471b7060f&amp;amp;bu=4...</td>\n",
       "      <td>Email</td>\n",
       "      <td>freshdeskuser_22171370@channelreply.email</td>\n",
       "      <td>24 04 2022 18:56</td>\n",
       "      <td>1</td>\n",
       "      <td>12</td>\n",
       "      <td>ServiceMessage,cr,gashio,gashio_de_eb,ebay,rynek_de_eb</td>\n",
       "    </tr>\n",
       "  </tbody>\n",
       "</table>\n",
       "</div>"
      ],
      "text/plain": [
       "   Ticket Id  \\\n",
       "0      16477   \n",
       "1      83046   \n",
       "2      92323   \n",
       "3     165940   \n",
       "4     192109   \n",
       "\n",
       "                                                                                        Subject  \\\n",
       "0                                                             Frage von Amazon-Kunde Anja Klose   \n",
       "1                          Frage von Amazon-Kunde Furkan Aydin(Bestellung: 306-1709843-3097134)   \n",
       "2       Return policy enquiry from Amazon customer Mrs Susan Tolley(Order: 204-9663987-5997940)   \n",
       "3                                Frage von Amazon-Kunde Fjolla(Bestellung: 306-7063158-3705902)   \n",
       "4  ? Sie haben einen neuen Preisvorschlag: EUR 60,00 für NeoNail Nagelstudio ... (373940992894)   \n",
       "\n",
       "                                                                                                                                                                                                                                                                                                                                                                                                                                                                                                                                                                                                                                                                                                                                                                                                                                                                                                                                                                                                                               Description  \\\n",
       "0                                                                                                                                                                                                                                                                                                                                                                                                                                                                                                                                                                                                                                                                                                                                                                                                                                                                                                              Skraut Home- Glanzlack Wohnwand. Von dem großen hängeschrank der Boden ist beschädigt. Beim Dübel loch ist was abgebrochen.   \n",
       "1                                                                                                                                                                                                                                                                                                                                                                                                                                                                                                                                                                                                                                                                                                                                                                                                                                                                                                                           Hallo Die schiene von der schublade ist kaputt da fallen die kleinen Kugeln raus. Ich möchte gerne 2 schienen.   \n",
       "2                                                                                                                                                                                                                                                                                                                                                                                                                                                                                                                                                                                                                                                                                                              Hi I purchased the welder back in April 2021 but due to ill health I have only been able to try the welder today. Unfortunately It does not work. I think there maybe a problem with the MIG output to the switch on the gun. I have used a test meter on the contacts and have no output. Please can you advise. Thankyou.   \n",
       "3                                                                                                                                                                                                                                                                                                                                                                                                                                                                                                                                                                                                                                                                                                                                                                          Sehr Geehrte Damen und Herren Es geht um meine Bestellung die ich seit Wochen gemacht habe.Auf meine Bestellung steht dass mein Paket möglicherweise verloren gegangen ist.Ich habe dafür Geld bezahlt.Wie können sie mir weiter helfen? Mit Freundliche Grüßen   \n",
       "4  Preisvorschlag: EUR 60,00 Preisvorschlag: EUR 60,00 Jetzt antworten: https://www.ebay.de/ulk/showOffers/373940992894?boolp=1&amp;mkevt=1&amp;mkpid=0&amp;emsid=e12060.m3112.l44861&amp;mkcid=26&amp;ch=osgood&amp;euid=0fe5676504234b2c849a719471b7060f&amp;bu=45010273334&amp;osub=-1%7E1&amp;crd=20220424091836&amp;segname=12060&amp;sojTags=ch%3Dch%2Cbu%3Dbu%2Cosub%3Dosub%2Ccrd%3Dcrd%2Csegname%3Dsegname%2Cchnl%3Dmkcid Artikel ansehen: https://www.ebay.de/itm/373940992894?mkevt=1&amp;mkpid=0&amp;emsid=e12060.m3112.l44862&amp;mkcid=26&amp;ch=osgood&amp;euid=0fe5676504234b2c849a719471b7060f&amp;bu=45010273334&amp;osub=-1%7E1&amp;crd=20220424091836&amp;segname=12060&amp;sojTags=ch%3Dch%2Cbu%3Dbu%2Cosub%3Dosub%2Ccrd%3Dcrd%2Csegname%3Dsegname%2Cchnl%3Dmkcid Unter Angebotspreis EUR 4,89 Dieses Angebot sichern 9 Beobachter meliba601: https://www.ebay.de/ulk/usr/meliba601?mkevt=1&amp;mkpid=0&amp;emsid=e12060.m3112.l44863&amp;mkcid=26&amp;ch=osgood&amp;euid=0fe5676504234b2c849a719471b7060f&amp;bu=4...   \n",
       "\n",
       "  Source                            Requester Email      Created Time  \\\n",
       "0  Email  freshdeskuser_18653026@channelreply.email  13 09 2021 15:58   \n",
       "1  Email  freshdeskuser_20098643@channelreply.email   7 12 2021 22:56   \n",
       "2  Email  freshdeskuser_20274812@channelreply.email  16 12 2021 13:51   \n",
       "3  Email  freshdeskuser_21788405@channelreply.email  19 03 2022 17:47   \n",
       "4  Email  freshdeskuser_22171370@channelreply.email  24 04 2022 18:56   \n",
       "\n",
       "   Agent interactions  Customer interactions  \\\n",
       "0                  26                     18   \n",
       "1                  12                      6   \n",
       "2                  65                     40   \n",
       "3                  14                      9   \n",
       "4                   1                     12   \n",
       "\n",
       "                                                     Tags  \n",
       "0                lukfurniture_de,cr,lukfurniture,rynek_de  \n",
       "1                lukfurniture_de,cr,lukfurniture,rynek_de  \n",
       "2                          cr,rynek_uk,allweld,allweld_uk  \n",
       "3                lukfurniture_de,cr,lukfurniture,rynek_de  \n",
       "4  ServiceMessage,cr,gashio,gashio_de_eb,ebay,rynek_de_eb  "
      ]
     },
     "execution_count": 6,
     "metadata": {},
     "output_type": "execute_result"
    }
   ],
   "source": [
    "all_amz_go.head(5)"
   ]
  },
  {
   "cell_type": "code",
   "execution_count": 7,
   "metadata": {},
   "outputs": [
    {
     "data": {
      "text/html": [
       "<div>\n",
       "<style scoped>\n",
       "    .dataframe tbody tr th:only-of-type {\n",
       "        vertical-align: middle;\n",
       "    }\n",
       "\n",
       "    .dataframe tbody tr th {\n",
       "        vertical-align: top;\n",
       "    }\n",
       "\n",
       "    .dataframe thead th {\n",
       "        text-align: right;\n",
       "    }\n",
       "</style>\n",
       "<table border=\"1\" class=\"dataframe\">\n",
       "  <thead>\n",
       "    <tr style=\"text-align: right;\">\n",
       "      <th></th>\n",
       "      <th>Ticket Id</th>\n",
       "      <th>Subject</th>\n",
       "      <th>Description</th>\n",
       "      <th>Source</th>\n",
       "      <th>Requester Email</th>\n",
       "      <th>Created Time</th>\n",
       "      <th>Agent interactions</th>\n",
       "      <th>Customer interactions</th>\n",
       "      <th>Tags</th>\n",
       "    </tr>\n",
       "  </thead>\n",
       "  <tbody>\n",
       "    <tr>\n",
       "      <th>0</th>\n",
       "      <td>111345</td>\n",
       "      <td>[DE] [PYTANIE] B07R42W8J9</td>\n",
       "      <td>Klient ma pytanie do produktu B07R42W8J9: &amp;quot;Jakie połączenie ma dachówka wentylacyjna?&amp;quot; Link do zapytania: www.amazon.de/ask/question/Tx21NZNJ8PMI5JH?_encoding=UTF8&amp;amp;authToken=967c969c-3f2e-47dd-b5e6-faeb39d052d1&amp;amp;ref_=s_respond&amp;amp;answerSolicitationSourceType=EMAIL&amp;amp;answerSolicitationLanguage=de_DE Pozdrawiam Beata</td>\n",
       "      <td>Outbound Email</td>\n",
       "      <td>shop@folnet.de</td>\n",
       "      <td>10 01 2022 10:47</td>\n",
       "      <td>4</td>\n",
       "      <td>4</td>\n",
       "      <td>Partner_wysłane,rynek_de</td>\n",
       "    </tr>\n",
       "    <tr>\n",
       "      <th>1</th>\n",
       "      <td>128291</td>\n",
       "      <td>[DE] 302-0014409-7188317 NIEKOMPLETNE</td>\n",
       "      <td>Klient zgłasza, że w zamówieniu nie było lampki. Pozdrawiam, Jakub</td>\n",
       "      <td>Outbound Email</td>\n",
       "      <td>info.palulli@gmail.com</td>\n",
       "      <td>30 01 2022 09:48</td>\n",
       "      <td>3</td>\n",
       "      <td>2</td>\n",
       "      <td>Partner_wysłane,rynek_de</td>\n",
       "    </tr>\n",
       "    <tr>\n",
       "      <th>2</th>\n",
       "      <td>128325</td>\n",
       "      <td>[REKLAMACJA] 205-9594094-3558723 UK</td>\n",
       "      <td>Dzień dobry, Klient napisał:  Ten produkt dotarł, ale nie działa, nie świeci się. Bardzo rozczarowany, ponieważ kupiłem go dla mojego dziecka. Brak zauważalnych wad, wszystko wydawało się w porządku po otwarciu. Mały przycisk przesuwa się w dół i wydaje się OK, ale nic się nie dzieje, gdy go nacisnąć. To nie świeci się, co było cały punkt z nim, i bardzo rozczarowujące dla mojej córki. Pozdrawiam, Hania</td>\n",
       "      <td>Outbound Email</td>\n",
       "      <td>polskaksiegarniainternetowa@gmail.com</td>\n",
       "      <td>30 01 2022 10:38</td>\n",
       "      <td>2</td>\n",
       "      <td>2</td>\n",
       "      <td>Partner_wysłane,rynek_uk,Przypomnienie</td>\n",
       "    </tr>\n",
       "    <tr>\n",
       "      <th>3</th>\n",
       "      <td>131092</td>\n",
       "      <td>[DE] [ZAPYTANIE] 305-6969626-5165121</td>\n",
       "      <td>Klient chciałby wiedzieć, czy materiał, z którego wykonane są klamki może być stosowany również na zewnątrz, np. na bocznych drzwiach wejściowych. Pozdrawiam Beata</td>\n",
       "      <td>Outbound Email</td>\n",
       "      <td>kotarbauzapytania@gmail.com</td>\n",
       "      <td>2 02 2022 16:10</td>\n",
       "      <td>4</td>\n",
       "      <td>4</td>\n",
       "      <td>Partner_wysłane,rynek_de,Przypomnienie</td>\n",
       "    </tr>\n",
       "    <tr>\n",
       "      <th>4</th>\n",
       "      <td>133983</td>\n",
       "      <td>[IT] 408-8392161-3066735 ZWROT</td>\n",
       "      <td>https://www.dhl.com/it-en/home/tracking/tracking-parcel.html?submit=1&amp;amp;tracking-id=CM332431606DE Paczka wraca do was, prosimy o refund dla klienta jak dojdzie Kasia</td>\n",
       "      <td>Outbound Email</td>\n",
       "      <td>kotarbauzapytania@gmail.com</td>\n",
       "      <td>7 02 2022 08:58</td>\n",
       "      <td>9</td>\n",
       "      <td>6</td>\n",
       "      <td>Partner_wysłane,rynek_it,Przypomnienie1,Przypomnienie2</td>\n",
       "    </tr>\n",
       "  </tbody>\n",
       "</table>\n",
       "</div>"
      ],
      "text/plain": [
       "   Ticket Id                                Subject  \\\n",
       "0     111345              [DE] [PYTANIE] B07R42W8J9   \n",
       "1     128291  [DE] 302-0014409-7188317 NIEKOMPLETNE   \n",
       "2     128325    [REKLAMACJA] 205-9594094-3558723 UK   \n",
       "3     131092   [DE] [ZAPYTANIE] 305-6969626-5165121   \n",
       "4     133983         [IT] 408-8392161-3066735 ZWROT   \n",
       "\n",
       "                                                                                                                                                                                                                                                                                                                                                                                                              Description  \\\n",
       "0                                                                        Klient ma pytanie do produktu B07R42W8J9: &quot;Jakie połączenie ma dachówka wentylacyjna?&quot; Link do zapytania: www.amazon.de/ask/question/Tx21NZNJ8PMI5JH?_encoding=UTF8&amp;authToken=967c969c-3f2e-47dd-b5e6-faeb39d052d1&amp;ref_=s_respond&amp;answerSolicitationSourceType=EMAIL&amp;answerSolicitationLanguage=de_DE Pozdrawiam Beata   \n",
       "1                                                                                                                                                                                                                                                                                                                                                      Klient zgłasza, że w zamówieniu nie było lampki. Pozdrawiam, Jakub   \n",
       "2  Dzień dobry, Klient napisał:  Ten produkt dotarł, ale nie działa, nie świeci się. Bardzo rozczarowany, ponieważ kupiłem go dla mojego dziecka. Brak zauważalnych wad, wszystko wydawało się w porządku po otwarciu. Mały przycisk przesuwa się w dół i wydaje się OK, ale nic się nie dzieje, gdy go nacisnąć. To nie świeci się, co było cały punkt z nim, i bardzo rozczarowujące dla mojej córki. Pozdrawiam, Hania   \n",
       "3                                                                                                                                                                                                                                                     Klient chciałby wiedzieć, czy materiał, z którego wykonane są klamki może być stosowany również na zewnątrz, np. na bocznych drzwiach wejściowych. Pozdrawiam Beata   \n",
       "4                                                                                                                                                                                                                                                 https://www.dhl.com/it-en/home/tracking/tracking-parcel.html?submit=1&amp;tracking-id=CM332431606DE Paczka wraca do was, prosimy o refund dla klienta jak dojdzie Kasia   \n",
       "\n",
       "           Source                        Requester Email      Created Time  \\\n",
       "0  Outbound Email                         shop@folnet.de  10 01 2022 10:47   \n",
       "1  Outbound Email                 info.palulli@gmail.com  30 01 2022 09:48   \n",
       "2  Outbound Email  polskaksiegarniainternetowa@gmail.com  30 01 2022 10:38   \n",
       "3  Outbound Email            kotarbauzapytania@gmail.com   2 02 2022 16:10   \n",
       "4  Outbound Email            kotarbauzapytania@gmail.com   7 02 2022 08:58   \n",
       "\n",
       "   Agent interactions  Customer interactions  \\\n",
       "0                   4                      4   \n",
       "1                   3                      2   \n",
       "2                   2                      2   \n",
       "3                   4                      4   \n",
       "4                   9                      6   \n",
       "\n",
       "                                                     Tags  \n",
       "0                                Partner_wysłane,rynek_de  \n",
       "1                                Partner_wysłane,rynek_de  \n",
       "2                  Partner_wysłane,rynek_uk,Przypomnienie  \n",
       "3                  Partner_wysłane,rynek_de,Przypomnienie  \n",
       "4  Partner_wysłane,rynek_it,Przypomnienie1,Przypomnienie2  "
      ]
     },
     "execution_count": 7,
     "metadata": {},
     "output_type": "execute_result"
    }
   ],
   "source": [
    "all_cus_go.head(5)"
   ]
  },
  {
   "cell_type": "code",
   "execution_count": 8,
   "metadata": {},
   "outputs": [],
   "source": [
    "all_amz_go.reset_index(drop=True, inplace=True)\n",
    "all_cus_go.reset_index(drop=True, inplace=True)"
   ]
  },
  {
   "cell_type": "code",
   "execution_count": 9,
   "metadata": {},
   "outputs": [],
   "source": [
    "# Funkcja do dzielenia komórek na listę, pierwszy argument tekst, drugi argument po czym tekst ma być dzielony \n",
    "\n",
    "def split_tags(tags: str, split_char: str) -> list:\n",
    "    try:\n",
    "        tags = tags.split(f'{split_char}')\n",
    "        return tags \n",
    "    except Exception:\n",
    "        return (list[tags])\n",
    "    "
   ]
  },
  {
   "cell_type": "code",
   "execution_count": 10,
   "metadata": {},
   "outputs": [],
   "source": [
    "# funkcja do wyciągania z listy, jakiego rynku dotyczą wiadomości\n",
    "\n",
    "def get_market(lst: list) -> str:\n",
    "    for i in lst:\n",
    "        if \"rynek\" in i:\n",
    "            return i"
   ]
  },
  {
   "cell_type": "code",
   "execution_count": 11,
   "metadata": {},
   "outputs": [],
   "source": [
    "# funkcja do wyciągania numerów zamówień z tekstu i tytułu maila. Przyjmuje dwa różne ciągi tekstowe, sprawdza czy jest w tytule jest regex, jeśli nie to sprawdza czy jest w opisie, jeśli nie to zwraca pustą listę\n",
    "\n",
    "se = re.compile(r\"\\d{3}-\\d{7}-\\d{7}\")\n",
    "\n",
    "def order_number(subject: str, description: str) -> list:\n",
    "    subject = str(subject)\n",
    "    description = str(description)\n",
    "    if se.findall(subject) == []:\n",
    "        return se.findall(description)\n",
    "    return se.findall(subject)\n"
   ]
  },
  {
   "cell_type": "code",
   "execution_count": 12,
   "metadata": {},
   "outputs": [],
   "source": [
    "# funkcja do tworzenia listy unikalnych wartości z kolumn. Dajemy wartość z kolumny i listę. Sprawdza czy wartość już znajduje się na liście, jeśli nie to ją dodaje\n",
    "\n",
    "def all_order(order: list, new_list: list) -> list:\n",
    "    try:\n",
    "        if order[0] in new_list:\n",
    "            return new_list\n",
    "        else:\n",
    "            new_list.append(order)\n",
    "            return new_list\n",
    "    except Exception:\n",
    "        i =1"
   ]
  },
  {
   "cell_type": "code",
   "execution_count": 13,
   "metadata": {},
   "outputs": [],
   "source": [
    "# druga funkcja do czyszczenia tytułów w celu zebrania etykiet do danych\n",
    "\n",
    "on = re.compile(r\"\\d{3}-\\d{7}-\\d{7}\")\n",
    "cc = re.compile(r\"w{2}\")\n",
    "cc2 = re.compile(r'\\[\\w{2}\\]')\n",
    "\n",
    "def clear_title(title_list: list) -> list:\n",
    "    for el in title_list:\n",
    "        print(el)\n",
    "    list_to_remove = []\n",
    "    for i in range(len(title_list)):\n",
    "        if re.match(on, title_list[i]):\n",
    "            title_list.remove(i)\n",
    "        elif re.match(cc, title_list[i]):\n",
    "            title_list.remove(i)\n",
    "        elif re.match(cc2, title_list[i]):\n",
    "            title_list.remove(i)\n",
    "    return title_list"
   ]
  },
  {
   "cell_type": "code",
   "execution_count": 14,
   "metadata": {},
   "outputs": [],
   "source": [
    "# trzecia funkcja do czyszczenia tytułów w celu zebrania etykiet do danych\n",
    "\n",
    "def num_there(s):\n",
    "    return any(i.isdigit() for i in s)\n",
    "\n",
    "def find_words_with_more_than_four_characters(words_with_tags):\n",
    "  words = []\n",
    "  for i in words_with_tags:\n",
    "    if num_there(i):\n",
    "      continue\n",
    "    w = re.sub('[^A-Za-zĄĆĘŁŃÓŚŹŻąćęłńóśźż]+', ' ', i)\n",
    "    w = w.strip(\" \")\n",
    "    if len(w) >= 4:\n",
    "      words.append(w)\n",
    "\n",
    "  return words"
   ]
  },
  {
   "cell_type": "code",
   "execution_count": 15,
   "metadata": {},
   "outputs": [],
   "source": [
    "# czwarta funkcja do czyszczenia tytułów w celu zebrania etykiet do danych\n",
    "\n",
    "def find_words_with_more_than_four_characters2(subject: str) -> list:\n",
    "  words = []\n",
    "  new_subject = ''\n",
    "  for l in subject:\n",
    "    l = re.sub('[^A-Za-zĄĆĘŁŃÓŚŹŻąćęłńóśźż]+', ' ', l)\n",
    "    new_subject += l\n",
    "  words_temp = new_subject.split(' ')\n",
    "  for i in words_temp:\n",
    "    if len(i) >= 4:\n",
    "      words.append(i)\n",
    "\n",
    "  return words"
   ]
  },
  {
   "cell_type": "code",
   "execution_count": 16,
   "metadata": {},
   "outputs": [],
   "source": [
    "# Funkcja do zliczania elementów w liscie, zwraca listę unikatowych wartości i listę unikatowych wartości z informacją ile razy występowały\n",
    "\n",
    "from collections import Counter\n",
    "\n",
    "def count_occurrences(input_list):\n",
    "    unique_values = set(input_list)\n",
    "    occurrence_count = Counter(input_list)\n",
    "\n",
    "    return list(unique_values), occurrence_count"
   ]
  },
  {
   "cell_type": "code",
   "execution_count": 17,
   "metadata": {},
   "outputs": [],
   "source": [
    "# Funkcja sprawdza czy peirwszy elemnt tupli jest kluczem do słownika, jeśli tak to dodaje 0 elemnt do listy i zwraca set, który zawiera unikatowe wartości dla danego klucza\n",
    "\n",
    "def find_all_values_to_dictonary (key: str ,list_of_tuple: list) -> set:\n",
    "    di = []\n",
    "    for i in list_of_tuple:\n",
    "        if i[1] == key:\n",
    "            di.append(i[0])\n",
    "    return set(di)\n"
   ]
  },
  {
   "cell_type": "code",
   "execution_count": 18,
   "metadata": {},
   "outputs": [],
   "source": [
    "#\n",
    "\n",
    "from itertools import chain\n",
    "\n",
    "def get_all_values (dict1: dict, dict0: dict):\n",
    "    final_dict = {}\n",
    "    key_lvl1 = []\n",
    "    key_lvl1.append(list(dict1.keys()))\n",
    "    key_lvl1 = list(chain(*key_lvl1))\n",
    "    not_working_keys = []\n",
    "    for i in key_lvl1:\n",
    "        temp_vals = []\n",
    "        temp_keys = dict1[i]\n",
    "        temp_keys = [x for x in temp_keys if x is not np.nan]\n",
    "        for j in temp_keys:\n",
    "            try:\n",
    "                temp_vals.append(list(dict0[j]))\n",
    "            except Exception:\n",
    "                    not_working_keys.append(j)\n",
    "        temp_vals = set(item for sublist in temp_vals for item in sublist)\n",
    "        final_dict[i] = temp_vals\n",
    "    return not_working_keys, final_dict"
   ]
  },
  {
   "cell_type": "code",
   "execution_count": 19,
   "metadata": {},
   "outputs": [],
   "source": [
    "def get_all_values2(dict1: dict, dict0: dict):\n",
    "    final_dict = {}\n",
    "    not_working_keys = []\n",
    "\n",
    "    for key, values in dict1.items():\n",
    "        valid_values = [v for v in values if v is not np.nan]\n",
    "        temp_vals = []\n",
    "\n",
    "        for v in valid_values:\n",
    "            try:\n",
    "                temp_vals.extend(dict0[v])\n",
    "            except Exception:\n",
    "                not_working_keys.append(v)\n",
    "\n",
    "        final_dict[key] = set(temp_vals)\n",
    "\n",
    "    return not_working_keys, final_dict"
   ]
  },
  {
   "cell_type": "code",
   "execution_count": 20,
   "metadata": {},
   "outputs": [],
   "source": [
    "def title_classification (dict_of_words: dict, title: list) -> str:\n",
    "    if len(title) > 0:\n",
    "        for key, values in dict_of_words.items():\n",
    "            for i in title:\n",
    "                if i in values:\n",
    "                    return key"
   ]
  },
  {
   "cell_type": "code",
   "execution_count": 21,
   "metadata": {},
   "outputs": [],
   "source": [
    "# Zmiana tytułów na lowercase\n",
    "\n",
    "all_amz_go['Subject'] = [str(row).lower() for row in all_amz_go['Subject']]\n",
    "all_cus_go['Subject'] = [str(row).lower() for row in all_cus_go['Subject']]"
   ]
  },
  {
   "cell_type": "code",
   "execution_count": 22,
   "metadata": {},
   "outputs": [],
   "source": [
    "# przekształcenie stringów w komórkach kolumny tags na listę, dzielone po przecinku \n",
    "\n",
    "all_amz_go['Tags'] = [split_tags(row, ',')for row in all_amz_go['Tags']]\n",
    "all_cus_go['Tags'] = [split_tags(row, ',')for row in all_cus_go['Tags']]"
   ]
  },
  {
   "cell_type": "code",
   "execution_count": 23,
   "metadata": {},
   "outputs": [],
   "source": [
    "# utworzenie kolumny, w której jest napisane jakiego rynku dotyczy wiadomość, na podstawie kolumny tags\n",
    "\n",
    "all_amz_go['rynek'] = [get_market(row) for row in all_amz_go['Tags']]\n",
    "all_cus_go['rynek'] = [get_market(row) for row in all_cus_go['Tags']]"
   ]
  },
  {
   "cell_type": "code",
   "execution_count": 24,
   "metadata": {},
   "outputs": [],
   "source": [
    "# usunięcie wierszy, które w kolumnie 'rynek' nie maję 'rynek_de'\n",
    "\n",
    "# all_amz_go.drop(all_amz_go[all_amz_go['rynek'] != 'rynek_de'].index,  inplace=True)\n",
    "# all_cus_go.drop(all_cus_go[all_cus_go['rynek'] != 'rynek_de'].index,  inplace=True)"
   ]
  },
  {
   "cell_type": "code",
   "execution_count": 25,
   "metadata": {},
   "outputs": [],
   "source": [
    "# wyciągnięcie numeru zamówień z kolumn subject i description\n",
    "\n",
    "all_amz_go['Order_number'] = [order_number(row1, row2) for row1, row2 in zip(all_amz_go['Subject'], all_amz_go['Description'])]\n",
    "all_cus_go['Order_number'] = [order_number(row1, row2) for row1, row2 in zip(all_cus_go['Subject'], all_cus_go['Description'])]"
   ]
  },
  {
   "cell_type": "code",
   "execution_count": 26,
   "metadata": {},
   "outputs": [],
   "source": [
    "# resetowanie indexów\n",
    "\n",
    "all_amz_go.reset_index(drop=True, inplace=True)\n",
    "all_cus_go.reset_index(drop=True, inplace=True)"
   ]
  },
  {
   "cell_type": "code",
   "execution_count": 27,
   "metadata": {},
   "outputs": [],
   "source": [
    "# zmiana obiektów z kolummny 'Created Time' na daty\n",
    "\n",
    "from datetime import datetime\n",
    "\n",
    "format_date = \"%d %m %Y %H:%M\"\n",
    "\n",
    "all_amz_go['Created Time'] = [datetime.strptime(row, format_date) for row in all_amz_go['Created Time']] \n",
    "all_cus_go['Created Time'] = [datetime.strptime(row, format_date) for row in all_cus_go['Created Time']] "
   ]
  },
  {
   "cell_type": "code",
   "execution_count": 28,
   "metadata": {},
   "outputs": [],
   "source": [
    "# wykorzystanie funkcji do splitowania aby utworzyć kolumnę \n",
    "\n",
    "all_amz_go['title_list'] = [split_tags(row, ' ') for row in all_amz_go['Subject']]\n",
    "all_cus_go['title_list'] = [split_tags(row, ' ') for row in all_cus_go['Subject']]"
   ]
  },
  {
   "cell_type": "code",
   "execution_count": 29,
   "metadata": {},
   "outputs": [
    {
     "data": {
      "text/plain": [
       "['[de]', '302-0014409-7188317', 'niekompletne']"
      ]
     },
     "execution_count": 29,
     "metadata": {},
     "output_type": "execute_result"
    }
   ],
   "source": [
    "# sprawdzenie czy funcja split_tags zadzaiała poprawnie\n",
    "\n",
    "all_cus_go['title_list'][1]"
   ]
  },
  {
   "cell_type": "markdown",
   "metadata": {},
   "source": [
    "W tym momencie postanowieł sprawdzić, czy zamówienia, z jednej i drugiej tabeli się pokrywają w jakimś najmniejszym stopniu"
   ]
  },
  {
   "cell_type": "code",
   "execution_count": 30,
   "metadata": {},
   "outputs": [],
   "source": [
    "# za pomocą wcześniej stworzonej funkcji tworzę listę unikatowych numerów ze wszystkich wierszy jednego data set\n",
    "\n",
    "all_amz_go_list = []\n",
    "[all_order(row, all_amz_go_list) for row in all_amz_go['Order_number']]\n",
    "all_amz_go_list = [item for sublist in all_amz_go_list for item in sublist]"
   ]
  },
  {
   "cell_type": "code",
   "execution_count": 31,
   "metadata": {},
   "outputs": [],
   "source": [
    "# za pomocą wcześniej stworzonej funkcji tworzę listę unikatowych numerów ze wszystkich wierszy drugiego data set\n",
    "\n",
    "all_cus_go_list = []\n",
    "[all_order(row, all_cus_go_list) for row in all_cus_go['Order_number']]\n",
    "all_cus_go_list = [item for sublist in all_cus_go_list for item in sublist]"
   ]
  },
  {
   "cell_type": "code",
   "execution_count": 32,
   "metadata": {},
   "outputs": [],
   "source": [
    "# zamieniam stworzyonych list na set\n",
    "\n",
    "mcg_order_set = set(all_amz_go_list)\n",
    "mag_rynek_de_order_set = set(all_cus_go_list)"
   ]
  },
  {
   "cell_type": "code",
   "execution_count": 33,
   "metadata": {},
   "outputs": [],
   "source": [
    "# dodanie kontrolnie jednej takiej samej wartości do obu setów\n",
    "\n",
    "mcg_order_set.add('123')\n",
    "mag_rynek_de_order_set.add('123')"
   ]
  },
  {
   "cell_type": "code",
   "execution_count": 34,
   "metadata": {},
   "outputs": [],
   "source": [
    "# porównanie dwóch\n",
    "\n",
    "y = mcg_order_set.intersection(mag_rynek_de_order_set)"
   ]
  },
  {
   "cell_type": "code",
   "execution_count": 35,
   "metadata": {},
   "outputs": [
    {
     "data": {
      "text/plain": [
       "11037"
      ]
     },
     "execution_count": 35,
     "metadata": {},
     "output_type": "execute_result"
    }
   ],
   "source": [
    "# Wyświetlenie ile mamy takich samych numerów zamówień w jednym i drugim secie\n",
    "\n",
    "len(y)"
   ]
  },
  {
   "cell_type": "markdown",
   "metadata": {},
   "source": [
    "Powrót do preprocesingu danych"
   ]
  },
  {
   "cell_type": "code",
   "execution_count": 36,
   "metadata": {},
   "outputs": [
    {
     "name": "stdout",
     "output_type": "stream",
     "text": [
      "['zapytanie', 'amandine', 'perez']\n"
     ]
    }
   ],
   "source": [
    "# weryfickaja działania funkcji do czyszczenia tytułów maili\n",
    "\n",
    "print(find_words_with_more_than_four_characters2(all_cus_go['Subject'][5552]))"
   ]
  },
  {
   "cell_type": "code",
   "execution_count": 37,
   "metadata": {},
   "outputs": [],
   "source": [
    "# utworzenie nowej kolumny label i dodanie do niej słów, które nadają się na labelki\n",
    "\n",
    "all_cus_go['label'] = [find_words_with_more_than_four_characters2(row) for row in all_cus_go['Subject']]"
   ]
  },
  {
   "cell_type": "code",
   "execution_count": 38,
   "metadata": {},
   "outputs": [],
   "source": [
    "# Stworzenie listy ze wszystkimi wartościami z kolumny labels\n",
    "\n",
    "label_list = []\n",
    "[all_order(row, label_list) for row in all_cus_go['label']]\n",
    "label_list = [item for sublist in label_list for item in sublist]"
   ]
  },
  {
   "cell_type": "code",
   "execution_count": 39,
   "metadata": {},
   "outputs": [],
   "source": [
    "# Stworzenie dwóch list na podstawie listy wartości z kolumny['label'], jedna lista to unikatowe wartości, druga lista unikatowe wartości z informacją ile dana wartość występowała\n",
    "\n",
    "uniq_vales, uniq_values_count = count_occurrences(label_list)"
   ]
  },
  {
   "cell_type": "code",
   "execution_count": 40,
   "metadata": {},
   "outputs": [],
   "source": [
    "# Stworzenie obiektu spacy z polskim słownikiem\n",
    "\n",
    "nlp = spacy.load(\"pl_core_news_lg\")"
   ]
  },
  {
   "cell_type": "code",
   "execution_count": 41,
   "metadata": {},
   "outputs": [],
   "source": [
    "# Zmiana unikatowej listy na string\n",
    "\n",
    "uniq_vales_sentence = ' '.join(uniq_vales)"
   ]
  },
  {
   "cell_type": "code",
   "execution_count": 42,
   "metadata": {},
   "outputs": [],
   "source": [
    "# tokenizacja stringu unikatowych wartości z kolumny tags\n",
    "\n",
    "doc = nlp(uniq_vales_sentence)"
   ]
  },
  {
   "cell_type": "code",
   "execution_count": 43,
   "metadata": {},
   "outputs": [],
   "source": [
    "# lemantyzacja wcześniej stworzonych tokenów. Stworzenie listy i listy tupli. Lista tupli zawierające słowo i jej podstawę słowotwórczą, sama lista zawiera wszystkie podstwy słowotwórcze \n",
    "\n",
    "all_lem = []\n",
    "all_words = []\n",
    "for token in doc:\n",
    "    all_words.append((token.text, token.lemma_))\n",
    "    all_lem.append(token.lemma_)"
   ]
  },
  {
   "cell_type": "code",
   "execution_count": 44,
   "metadata": {},
   "outputs": [],
   "source": [
    "# import pickle\n",
    "# with open('all_lem.pkl', 'wb') as file:\n",
    "#     pickle.dump(all_lem, file)"
   ]
  },
  {
   "cell_type": "code",
   "execution_count": 45,
   "metadata": {},
   "outputs": [],
   "source": [
    "# stworzenie słownika ze specjalnego obieku counter\n",
    "\n",
    "uniq_values_count_dict = dict(uniq_values_count)"
   ]
  },
  {
   "cell_type": "code",
   "execution_count": 46,
   "metadata": {},
   "outputs": [],
   "source": [
    "# Stworzenie słownika gdzie klucz to podstawa słowotwórcza a values jest listą słów dla tej podstawy występująca w kolumnie tags\n",
    "\n",
    "lem_dict_0 = {}\n",
    "for i in set(all_lem):\n",
    "    lem_dict_0[i] = find_all_values_to_dictonary(i,all_words)"
   ]
  },
  {
   "cell_type": "code",
   "execution_count": 47,
   "metadata": {},
   "outputs": [],
   "source": [
    "# Stworzenie słownika, gdzie klucz to podstawa słwowtwórcza, a values to suma wartości występowania słów zawiązanych z tą lemą\n",
    "\n",
    "number_of_occurence = {}\n",
    "for i in lem_dict_0:\n",
    "    number_of_occurence_value = []\n",
    "    for j in lem_dict_0[i]:\n",
    "        number_of_occurence_value.append(uniq_values_count_dict[j])\n",
    "    number_of_occurence[i] = sum(number_of_occurence_value)"
   ]
  },
  {
   "cell_type": "code",
   "execution_count": 48,
   "metadata": {},
   "outputs": [],
   "source": [
    "# Posortowanie słownika zawierającego podstawę słowotwórczą oraz ilość wystąpnień słów z nim powiązanych\n",
    "\n",
    "number_of_occurence_sorted = sorted(number_of_occurence.items(), key=lambda x:x[1], reverse=True)"
   ]
  },
  {
   "cell_type": "code",
   "execution_count": 49,
   "metadata": {},
   "outputs": [
    {
     "data": {
      "text/html": [
       "<div>\n",
       "<style scoped>\n",
       "    .dataframe tbody tr th:only-of-type {\n",
       "        vertical-align: middle;\n",
       "    }\n",
       "\n",
       "    .dataframe tbody tr th {\n",
       "        vertical-align: top;\n",
       "    }\n",
       "\n",
       "    .dataframe thead th {\n",
       "        text-align: right;\n",
       "    }\n",
       "</style>\n",
       "<table border=\"1\" class=\"dataframe\">\n",
       "  <thead>\n",
       "    <tr style=\"text-align: right;\">\n",
       "      <th></th>\n",
       "      <th>0</th>\n",
       "      <th>1</th>\n",
       "      <th>2</th>\n",
       "      <th>3</th>\n",
       "      <th>4</th>\n",
       "      <th>5</th>\n",
       "      <th>6</th>\n",
       "      <th>7</th>\n",
       "      <th>8</th>\n",
       "      <th>9</th>\n",
       "      <th>...</th>\n",
       "      <th>44</th>\n",
       "      <th>45</th>\n",
       "      <th>46</th>\n",
       "      <th>47</th>\n",
       "      <th>48</th>\n",
       "      <th>49</th>\n",
       "      <th>50</th>\n",
       "      <th>51</th>\n",
       "      <th>52</th>\n",
       "      <th>53</th>\n",
       "    </tr>\n",
       "  </thead>\n",
       "  <tbody>\n",
       "    <tr>\n",
       "      <th>0</th>\n",
       "      <td>anulacja</td>\n",
       "      <td>anulować</td>\n",
       "      <td>anulacja</td>\n",
       "      <td>anulowac</td>\n",
       "      <td>anulacj</td>\n",
       "      <td>anulownie</td>\n",
       "      <td>anulownaie</td>\n",
       "      <td>nieanulowanie</td>\n",
       "      <td>anulaj</td>\n",
       "      <td>anuloewanie</td>\n",
       "      <td>...</td>\n",
       "      <td>NaN</td>\n",
       "      <td>NaN</td>\n",
       "      <td>NaN</td>\n",
       "      <td>NaN</td>\n",
       "      <td>NaN</td>\n",
       "      <td>NaN</td>\n",
       "      <td>NaN</td>\n",
       "      <td>NaN</td>\n",
       "      <td>NaN</td>\n",
       "      <td>NaN</td>\n",
       "    </tr>\n",
       "    <tr>\n",
       "      <th>1</th>\n",
       "      <td>reklamacja</td>\n",
       "      <td>reklamacja</td>\n",
       "      <td>reklamation</td>\n",
       "      <td>reklamcja</td>\n",
       "      <td>reklaamcja</td>\n",
       "      <td>reklamajci</td>\n",
       "      <td>reklmacja</td>\n",
       "      <td>reklacja</td>\n",
       "      <td>reklama</td>\n",
       "      <td>reklamationa</td>\n",
       "      <td>...</td>\n",
       "      <td>NaN</td>\n",
       "      <td>NaN</td>\n",
       "      <td>NaN</td>\n",
       "      <td>NaN</td>\n",
       "      <td>NaN</td>\n",
       "      <td>NaN</td>\n",
       "      <td>NaN</td>\n",
       "      <td>NaN</td>\n",
       "      <td>NaN</td>\n",
       "      <td>NaN</td>\n",
       "    </tr>\n",
       "    <tr>\n",
       "      <th>2</th>\n",
       "      <td>wysyłka</td>\n",
       "      <td>wysyłce</td>\n",
       "      <td>wysyłka</td>\n",
       "      <td>wysyłke</td>\n",
       "      <td>wysyp</td>\n",
       "      <td>wysylce</td>\n",
       "      <td>wysyłkąć</td>\n",
       "      <td>wysyka</td>\n",
       "      <td>NaN</td>\n",
       "      <td>NaN</td>\n",
       "      <td>...</td>\n",
       "      <td>NaN</td>\n",
       "      <td>NaN</td>\n",
       "      <td>NaN</td>\n",
       "      <td>NaN</td>\n",
       "      <td>NaN</td>\n",
       "      <td>NaN</td>\n",
       "      <td>NaN</td>\n",
       "      <td>NaN</td>\n",
       "      <td>NaN</td>\n",
       "      <td>NaN</td>\n",
       "    </tr>\n",
       "    <tr>\n",
       "      <th>3</th>\n",
       "      <td>refund</td>\n",
       "      <td>refund</td>\n",
       "      <td>refundacja</td>\n",
       "      <td>refunda</td>\n",
       "      <td>refunf</td>\n",
       "      <td>refung</td>\n",
       "      <td>NaN</td>\n",
       "      <td>NaN</td>\n",
       "      <td>NaN</td>\n",
       "      <td>NaN</td>\n",
       "      <td>...</td>\n",
       "      <td>NaN</td>\n",
       "      <td>NaN</td>\n",
       "      <td>NaN</td>\n",
       "      <td>NaN</td>\n",
       "      <td>NaN</td>\n",
       "      <td>NaN</td>\n",
       "      <td>NaN</td>\n",
       "      <td>NaN</td>\n",
       "      <td>NaN</td>\n",
       "      <td>NaN</td>\n",
       "    </tr>\n",
       "    <tr>\n",
       "      <th>4</th>\n",
       "      <td>przesyłka</td>\n",
       "      <td>przesyłka</td>\n",
       "      <td>przesylka</td>\n",
       "      <td>przesyłewka</td>\n",
       "      <td>przesyłkami</td>\n",
       "      <td>NaN</td>\n",
       "      <td>NaN</td>\n",
       "      <td>NaN</td>\n",
       "      <td>NaN</td>\n",
       "      <td>NaN</td>\n",
       "      <td>...</td>\n",
       "      <td>NaN</td>\n",
       "      <td>NaN</td>\n",
       "      <td>NaN</td>\n",
       "      <td>NaN</td>\n",
       "      <td>NaN</td>\n",
       "      <td>NaN</td>\n",
       "      <td>NaN</td>\n",
       "      <td>NaN</td>\n",
       "      <td>NaN</td>\n",
       "      <td>NaN</td>\n",
       "    </tr>\n",
       "  </tbody>\n",
       "</table>\n",
       "<p>5 rows × 54 columns</p>\n",
       "</div>"
      ],
      "text/plain": [
       "           0           1            2            3            4           5   \\\n",
       "0    anulacja    anulować     anulacja     anulowac      anulacj   anulownie   \n",
       "1  reklamacja  reklamacja  reklamation    reklamcja   reklaamcja  reklamajci   \n",
       "2     wysyłka     wysyłce      wysyłka      wysyłke        wysyp     wysylce   \n",
       "3      refund      refund   refundacja      refunda       refunf      refung   \n",
       "4   przesyłka   przesyłka    przesylka  przesyłewka  przesyłkami         NaN   \n",
       "\n",
       "           6              7        8             9   ...   44   45   46   47  \\\n",
       "0  anulownaie  nieanulowanie   anulaj   anuloewanie  ...  NaN  NaN  NaN  NaN   \n",
       "1   reklmacja       reklacja  reklama  reklamationa  ...  NaN  NaN  NaN  NaN   \n",
       "2    wysyłkąć         wysyka      NaN           NaN  ...  NaN  NaN  NaN  NaN   \n",
       "3         NaN            NaN      NaN           NaN  ...  NaN  NaN  NaN  NaN   \n",
       "4         NaN            NaN      NaN           NaN  ...  NaN  NaN  NaN  NaN   \n",
       "\n",
       "    48   49   50   51   52   53  \n",
       "0  NaN  NaN  NaN  NaN  NaN  NaN  \n",
       "1  NaN  NaN  NaN  NaN  NaN  NaN  \n",
       "2  NaN  NaN  NaN  NaN  NaN  NaN  \n",
       "3  NaN  NaN  NaN  NaN  NaN  NaN  \n",
       "4  NaN  NaN  NaN  NaN  NaN  NaN  \n",
       "\n",
       "[5 rows x 54 columns]"
      ]
     },
     "execution_count": 49,
     "metadata": {},
     "output_type": "execute_result"
    }
   ],
   "source": [
    "labels_df = pd.read_csv('labels2.csv', sep=';', header=None)\n",
    "labels_df.head(5)"
   ]
  },
  {
   "cell_type": "code",
   "execution_count": 50,
   "metadata": {},
   "outputs": [],
   "source": [
    "labels_df = labels_df.T\n",
    "labels_df.columns = labels_df.iloc[0]\n",
    "label_name = labels_df.iloc[0]\n",
    "labels_df = labels_df[1:]"
   ]
  },
  {
   "cell_type": "code",
   "execution_count": 51,
   "metadata": {},
   "outputs": [],
   "source": [
    "lem_dict_1 = labels_df.to_dict(orient='list')"
   ]
  },
  {
   "cell_type": "code",
   "execution_count": 52,
   "metadata": {},
   "outputs": [],
   "source": [
    "not_working_keys, final_dict = get_all_values(lem_dict_1, lem_dict_0)"
   ]
  },
  {
   "cell_type": "code",
   "execution_count": 53,
   "metadata": {},
   "outputs": [
    {
     "data": {
      "text/plain": [
       "60"
      ]
     },
     "execution_count": 53,
     "metadata": {},
     "output_type": "execute_result"
    }
   ],
   "source": [
    "len(not_working_keys)"
   ]
  },
  {
   "cell_type": "code",
   "execution_count": 54,
   "metadata": {},
   "outputs": [],
   "source": [
    "all_cus_go['final_label'] = [title_classification(final_dict, row) for row in all_cus_go['label']]"
   ]
  },
  {
   "cell_type": "code",
   "execution_count": 55,
   "metadata": {},
   "outputs": [],
   "source": [
    "df_to_model = pd.DataFrame()\n",
    "for i in all_cus_go['final_label'].unique():\n",
    "    subset = all_cus_go[all_cus_go['final_label'] == i].head(1000).reset_index(drop=True)\n",
    "    df_to_model = pd.concat([df_to_model, subset], axis=0)"
   ]
  },
  {
   "cell_type": "code",
   "execution_count": 56,
   "metadata": {},
   "outputs": [
    {
     "data": {
      "text/plain": [
       "zapytanie       1000\n",
       "faktura         1000\n",
       "anulacja        1000\n",
       "paczka          1000\n",
       "wysyłka         1000\n",
       "dostawa         1000\n",
       "zwrot           1000\n",
       "reklamacja      1000\n",
       "adres            957\n",
       "brak             798\n",
       "refund           776\n",
       "uszkodzony       418\n",
       "przesyłka        411\n",
       "niekompletne     395\n",
       "ponowna          158\n",
       "inne             127\n",
       "opóźnienie        81\n",
       "Name: final_label, dtype: int64"
      ]
     },
     "execution_count": 56,
     "metadata": {},
     "output_type": "execute_result"
    }
   ],
   "source": [
    "df_to_model['final_label'].value_counts()"
   ]
  },
  {
   "cell_type": "code",
   "execution_count": 57,
   "metadata": {},
   "outputs": [],
   "source": [
    "from sklearn.feature_extraction.text import TfidfVectorizer\n",
    "from sklearn.model_selection import train_test_split"
   ]
  },
  {
   "cell_type": "code",
   "execution_count": 58,
   "metadata": {},
   "outputs": [],
   "source": [
    "X = df_to_model['Description']\n",
    "y = df_to_model['final_label']"
   ]
  },
  {
   "cell_type": "code",
   "execution_count": 59,
   "metadata": {},
   "outputs": [],
   "source": [
    "X_train, X_test, y_train, y_test = train_test_split(X,\n",
    "                                                    y,\n",
    "                                                    test_size=0.2,\n",
    "                                                    random_state=42)"
   ]
  },
  {
   "cell_type": "code",
   "execution_count": 60,
   "metadata": {},
   "outputs": [
    {
     "data": {
      "text/html": [
       "<style>#sk-container-id-1 {color: black;background-color: white;}#sk-container-id-1 pre{padding: 0;}#sk-container-id-1 div.sk-toggleable {background-color: white;}#sk-container-id-1 label.sk-toggleable__label {cursor: pointer;display: block;width: 100%;margin-bottom: 0;padding: 0.3em;box-sizing: border-box;text-align: center;}#sk-container-id-1 label.sk-toggleable__label-arrow:before {content: \"▸\";float: left;margin-right: 0.25em;color: #696969;}#sk-container-id-1 label.sk-toggleable__label-arrow:hover:before {color: black;}#sk-container-id-1 div.sk-estimator:hover label.sk-toggleable__label-arrow:before {color: black;}#sk-container-id-1 div.sk-toggleable__content {max-height: 0;max-width: 0;overflow: hidden;text-align: left;background-color: #f0f8ff;}#sk-container-id-1 div.sk-toggleable__content pre {margin: 0.2em;color: black;border-radius: 0.25em;background-color: #f0f8ff;}#sk-container-id-1 input.sk-toggleable__control:checked~div.sk-toggleable__content {max-height: 200px;max-width: 100%;overflow: auto;}#sk-container-id-1 input.sk-toggleable__control:checked~label.sk-toggleable__label-arrow:before {content: \"▾\";}#sk-container-id-1 div.sk-estimator input.sk-toggleable__control:checked~label.sk-toggleable__label {background-color: #d4ebff;}#sk-container-id-1 div.sk-label input.sk-toggleable__control:checked~label.sk-toggleable__label {background-color: #d4ebff;}#sk-container-id-1 input.sk-hidden--visually {border: 0;clip: rect(1px 1px 1px 1px);clip: rect(1px, 1px, 1px, 1px);height: 1px;margin: -1px;overflow: hidden;padding: 0;position: absolute;width: 1px;}#sk-container-id-1 div.sk-estimator {font-family: monospace;background-color: #f0f8ff;border: 1px dotted black;border-radius: 0.25em;box-sizing: border-box;margin-bottom: 0.5em;}#sk-container-id-1 div.sk-estimator:hover {background-color: #d4ebff;}#sk-container-id-1 div.sk-parallel-item::after {content: \"\";width: 100%;border-bottom: 1px solid gray;flex-grow: 1;}#sk-container-id-1 div.sk-label:hover label.sk-toggleable__label {background-color: #d4ebff;}#sk-container-id-1 div.sk-serial::before {content: \"\";position: absolute;border-left: 1px solid gray;box-sizing: border-box;top: 0;bottom: 0;left: 50%;z-index: 0;}#sk-container-id-1 div.sk-serial {display: flex;flex-direction: column;align-items: center;background-color: white;padding-right: 0.2em;padding-left: 0.2em;position: relative;}#sk-container-id-1 div.sk-item {position: relative;z-index: 1;}#sk-container-id-1 div.sk-parallel {display: flex;align-items: stretch;justify-content: center;background-color: white;position: relative;}#sk-container-id-1 div.sk-item::before, #sk-container-id-1 div.sk-parallel-item::before {content: \"\";position: absolute;border-left: 1px solid gray;box-sizing: border-box;top: 0;bottom: 0;left: 50%;z-index: -1;}#sk-container-id-1 div.sk-parallel-item {display: flex;flex-direction: column;z-index: 1;position: relative;background-color: white;}#sk-container-id-1 div.sk-parallel-item:first-child::after {align-self: flex-end;width: 50%;}#sk-container-id-1 div.sk-parallel-item:last-child::after {align-self: flex-start;width: 50%;}#sk-container-id-1 div.sk-parallel-item:only-child::after {width: 0;}#sk-container-id-1 div.sk-dashed-wrapped {border: 1px dashed gray;margin: 0 0.4em 0.5em 0.4em;box-sizing: border-box;padding-bottom: 0.4em;background-color: white;}#sk-container-id-1 div.sk-label label {font-family: monospace;font-weight: bold;display: inline-block;line-height: 1.2em;}#sk-container-id-1 div.sk-label-container {text-align: center;}#sk-container-id-1 div.sk-container {/* jupyter's `normalize.less` sets `[hidden] { display: none; }` but bootstrap.min.css set `[hidden] { display: none !important; }` so we also need the `!important` here to be able to override the default hidden behavior on the sphinx rendered scikit-learn.org. See: https://github.com/scikit-learn/scikit-learn/issues/21755 */display: inline-block !important;position: relative;}#sk-container-id-1 div.sk-text-repr-fallback {display: none;}</style><div id=\"sk-container-id-1\" class=\"sk-top-container\"><div class=\"sk-text-repr-fallback\"><pre>TfidfVectorizer()</pre><b>In a Jupyter environment, please rerun this cell to show the HTML representation or trust the notebook. <br />On GitHub, the HTML representation is unable to render, please try loading this page with nbviewer.org.</b></div><div class=\"sk-container\" hidden><div class=\"sk-item\"><div class=\"sk-estimator sk-toggleable\"><input class=\"sk-toggleable__control sk-hidden--visually\" id=\"sk-estimator-id-1\" type=\"checkbox\" checked><label for=\"sk-estimator-id-1\" class=\"sk-toggleable__label sk-toggleable__label-arrow\">TfidfVectorizer</label><div class=\"sk-toggleable__content\"><pre>TfidfVectorizer()</pre></div></div></div></div></div>"
      ],
      "text/plain": [
       "TfidfVectorizer()"
      ]
     },
     "execution_count": 60,
     "metadata": {},
     "output_type": "execute_result"
    }
   ],
   "source": [
    "tfidf = TfidfVectorizer()\n",
    "tfidf.fit(X_train)"
   ]
  },
  {
   "cell_type": "code",
   "execution_count": 61,
   "metadata": {},
   "outputs": [],
   "source": [
    "X_train_tf = tfidf.transform(X_train)\n",
    "X_test_tf = tfidf.transform(X_test)"
   ]
  },
  {
   "cell_type": "code",
   "execution_count": 62,
   "metadata": {},
   "outputs": [
    {
     "data": {
      "text/plain": [
       "matrix([[0., 0., 0., ..., 0., 0., 0.],\n",
       "        [0., 0., 0., ..., 0., 0., 0.],\n",
       "        [0., 0., 0., ..., 0., 0., 0.],\n",
       "        ...,\n",
       "        [0., 0., 0., ..., 0., 0., 0.],\n",
       "        [0., 0., 0., ..., 0., 0., 0.],\n",
       "        [0., 0., 0., ..., 0., 0., 0.]])"
      ]
     },
     "execution_count": 62,
     "metadata": {},
     "output_type": "execute_result"
    }
   ],
   "source": [
    "X_train_tf.todense()"
   ]
  },
  {
   "cell_type": "code",
   "execution_count": 63,
   "metadata": {},
   "outputs": [
    {
     "data": {
      "text/plain": [
       "array(['00', '000', '0000', ..., 'żądany', 'żądanych', 'żę'], dtype=object)"
      ]
     },
     "execution_count": 63,
     "metadata": {},
     "output_type": "execute_result"
    }
   ],
   "source": [
    "tfidf.get_feature_names_out()"
   ]
  },
  {
   "cell_type": "code",
   "execution_count": 64,
   "metadata": {},
   "outputs": [
    {
     "data": {
      "text/html": [
       "<div>\n",
       "<style scoped>\n",
       "    .dataframe tbody tr th:only-of-type {\n",
       "        vertical-align: middle;\n",
       "    }\n",
       "\n",
       "    .dataframe tbody tr th {\n",
       "        vertical-align: top;\n",
       "    }\n",
       "\n",
       "    .dataframe thead th {\n",
       "        text-align: right;\n",
       "    }\n",
       "</style>\n",
       "<table border=\"1\" class=\"dataframe\">\n",
       "  <thead>\n",
       "    <tr style=\"text-align: right;\">\n",
       "      <th></th>\n",
       "      <th>00</th>\n",
       "      <th>000</th>\n",
       "      <th>0000</th>\n",
       "      <th>0000000</th>\n",
       "      <th>000000992432</th>\n",
       "      <th>0000028368</th>\n",
       "      <th>0000047237</th>\n",
       "      <th>0000142805</th>\n",
       "      <th>0000357766</th>\n",
       "      <th>0000373427</th>\n",
       "      <th>...</th>\n",
       "      <th>żółty</th>\n",
       "      <th>żółtą</th>\n",
       "      <th>żąda</th>\n",
       "      <th>żądają</th>\n",
       "      <th>żądam</th>\n",
       "      <th>żądania</th>\n",
       "      <th>żądanie</th>\n",
       "      <th>żądany</th>\n",
       "      <th>żądanych</th>\n",
       "      <th>żę</th>\n",
       "    </tr>\n",
       "  </thead>\n",
       "  <tbody>\n",
       "    <tr>\n",
       "      <th>0</th>\n",
       "      <td>0.0</td>\n",
       "      <td>0.0</td>\n",
       "      <td>0.0</td>\n",
       "      <td>0.0</td>\n",
       "      <td>0.0</td>\n",
       "      <td>0.0</td>\n",
       "      <td>0.0</td>\n",
       "      <td>0.0</td>\n",
       "      <td>0.0</td>\n",
       "      <td>0.0</td>\n",
       "      <td>...</td>\n",
       "      <td>0.0</td>\n",
       "      <td>0.0</td>\n",
       "      <td>0.0</td>\n",
       "      <td>0.0</td>\n",
       "      <td>0.0</td>\n",
       "      <td>0.0</td>\n",
       "      <td>0.0</td>\n",
       "      <td>0.0</td>\n",
       "      <td>0.0</td>\n",
       "      <td>0.0</td>\n",
       "    </tr>\n",
       "    <tr>\n",
       "      <th>1</th>\n",
       "      <td>0.0</td>\n",
       "      <td>0.0</td>\n",
       "      <td>0.0</td>\n",
       "      <td>0.0</td>\n",
       "      <td>0.0</td>\n",
       "      <td>0.0</td>\n",
       "      <td>0.0</td>\n",
       "      <td>0.0</td>\n",
       "      <td>0.0</td>\n",
       "      <td>0.0</td>\n",
       "      <td>...</td>\n",
       "      <td>0.0</td>\n",
       "      <td>0.0</td>\n",
       "      <td>0.0</td>\n",
       "      <td>0.0</td>\n",
       "      <td>0.0</td>\n",
       "      <td>0.0</td>\n",
       "      <td>0.0</td>\n",
       "      <td>0.0</td>\n",
       "      <td>0.0</td>\n",
       "      <td>0.0</td>\n",
       "    </tr>\n",
       "    <tr>\n",
       "      <th>2</th>\n",
       "      <td>0.0</td>\n",
       "      <td>0.0</td>\n",
       "      <td>0.0</td>\n",
       "      <td>0.0</td>\n",
       "      <td>0.0</td>\n",
       "      <td>0.0</td>\n",
       "      <td>0.0</td>\n",
       "      <td>0.0</td>\n",
       "      <td>0.0</td>\n",
       "      <td>0.0</td>\n",
       "      <td>...</td>\n",
       "      <td>0.0</td>\n",
       "      <td>0.0</td>\n",
       "      <td>0.0</td>\n",
       "      <td>0.0</td>\n",
       "      <td>0.0</td>\n",
       "      <td>0.0</td>\n",
       "      <td>0.0</td>\n",
       "      <td>0.0</td>\n",
       "      <td>0.0</td>\n",
       "      <td>0.0</td>\n",
       "    </tr>\n",
       "    <tr>\n",
       "      <th>3</th>\n",
       "      <td>0.0</td>\n",
       "      <td>0.0</td>\n",
       "      <td>0.0</td>\n",
       "      <td>0.0</td>\n",
       "      <td>0.0</td>\n",
       "      <td>0.0</td>\n",
       "      <td>0.0</td>\n",
       "      <td>0.0</td>\n",
       "      <td>0.0</td>\n",
       "      <td>0.0</td>\n",
       "      <td>...</td>\n",
       "      <td>0.0</td>\n",
       "      <td>0.0</td>\n",
       "      <td>0.0</td>\n",
       "      <td>0.0</td>\n",
       "      <td>0.0</td>\n",
       "      <td>0.0</td>\n",
       "      <td>0.0</td>\n",
       "      <td>0.0</td>\n",
       "      <td>0.0</td>\n",
       "      <td>0.0</td>\n",
       "    </tr>\n",
       "    <tr>\n",
       "      <th>4</th>\n",
       "      <td>0.0</td>\n",
       "      <td>0.0</td>\n",
       "      <td>0.0</td>\n",
       "      <td>0.0</td>\n",
       "      <td>0.0</td>\n",
       "      <td>0.0</td>\n",
       "      <td>0.0</td>\n",
       "      <td>0.0</td>\n",
       "      <td>0.0</td>\n",
       "      <td>0.0</td>\n",
       "      <td>...</td>\n",
       "      <td>0.0</td>\n",
       "      <td>0.0</td>\n",
       "      <td>0.0</td>\n",
       "      <td>0.0</td>\n",
       "      <td>0.0</td>\n",
       "      <td>0.0</td>\n",
       "      <td>0.0</td>\n",
       "      <td>0.0</td>\n",
       "      <td>0.0</td>\n",
       "      <td>0.0</td>\n",
       "    </tr>\n",
       "    <tr>\n",
       "      <th>...</th>\n",
       "      <td>...</td>\n",
       "      <td>...</td>\n",
       "      <td>...</td>\n",
       "      <td>...</td>\n",
       "      <td>...</td>\n",
       "      <td>...</td>\n",
       "      <td>...</td>\n",
       "      <td>...</td>\n",
       "      <td>...</td>\n",
       "      <td>...</td>\n",
       "      <td>...</td>\n",
       "      <td>...</td>\n",
       "      <td>...</td>\n",
       "      <td>...</td>\n",
       "      <td>...</td>\n",
       "      <td>...</td>\n",
       "      <td>...</td>\n",
       "      <td>...</td>\n",
       "      <td>...</td>\n",
       "      <td>...</td>\n",
       "      <td>...</td>\n",
       "    </tr>\n",
       "    <tr>\n",
       "      <th>9691</th>\n",
       "      <td>0.0</td>\n",
       "      <td>0.0</td>\n",
       "      <td>0.0</td>\n",
       "      <td>0.0</td>\n",
       "      <td>0.0</td>\n",
       "      <td>0.0</td>\n",
       "      <td>0.0</td>\n",
       "      <td>0.0</td>\n",
       "      <td>0.0</td>\n",
       "      <td>0.0</td>\n",
       "      <td>...</td>\n",
       "      <td>0.0</td>\n",
       "      <td>0.0</td>\n",
       "      <td>0.0</td>\n",
       "      <td>0.0</td>\n",
       "      <td>0.0</td>\n",
       "      <td>0.0</td>\n",
       "      <td>0.0</td>\n",
       "      <td>0.0</td>\n",
       "      <td>0.0</td>\n",
       "      <td>0.0</td>\n",
       "    </tr>\n",
       "    <tr>\n",
       "      <th>9692</th>\n",
       "      <td>0.0</td>\n",
       "      <td>0.0</td>\n",
       "      <td>0.0</td>\n",
       "      <td>0.0</td>\n",
       "      <td>0.0</td>\n",
       "      <td>0.0</td>\n",
       "      <td>0.0</td>\n",
       "      <td>0.0</td>\n",
       "      <td>0.0</td>\n",
       "      <td>0.0</td>\n",
       "      <td>...</td>\n",
       "      <td>0.0</td>\n",
       "      <td>0.0</td>\n",
       "      <td>0.0</td>\n",
       "      <td>0.0</td>\n",
       "      <td>0.0</td>\n",
       "      <td>0.0</td>\n",
       "      <td>0.0</td>\n",
       "      <td>0.0</td>\n",
       "      <td>0.0</td>\n",
       "      <td>0.0</td>\n",
       "    </tr>\n",
       "    <tr>\n",
       "      <th>9693</th>\n",
       "      <td>0.0</td>\n",
       "      <td>0.0</td>\n",
       "      <td>0.0</td>\n",
       "      <td>0.0</td>\n",
       "      <td>0.0</td>\n",
       "      <td>0.0</td>\n",
       "      <td>0.0</td>\n",
       "      <td>0.0</td>\n",
       "      <td>0.0</td>\n",
       "      <td>0.0</td>\n",
       "      <td>...</td>\n",
       "      <td>0.0</td>\n",
       "      <td>0.0</td>\n",
       "      <td>0.0</td>\n",
       "      <td>0.0</td>\n",
       "      <td>0.0</td>\n",
       "      <td>0.0</td>\n",
       "      <td>0.0</td>\n",
       "      <td>0.0</td>\n",
       "      <td>0.0</td>\n",
       "      <td>0.0</td>\n",
       "    </tr>\n",
       "    <tr>\n",
       "      <th>9694</th>\n",
       "      <td>0.0</td>\n",
       "      <td>0.0</td>\n",
       "      <td>0.0</td>\n",
       "      <td>0.0</td>\n",
       "      <td>0.0</td>\n",
       "      <td>0.0</td>\n",
       "      <td>0.0</td>\n",
       "      <td>0.0</td>\n",
       "      <td>0.0</td>\n",
       "      <td>0.0</td>\n",
       "      <td>...</td>\n",
       "      <td>0.0</td>\n",
       "      <td>0.0</td>\n",
       "      <td>0.0</td>\n",
       "      <td>0.0</td>\n",
       "      <td>0.0</td>\n",
       "      <td>0.0</td>\n",
       "      <td>0.0</td>\n",
       "      <td>0.0</td>\n",
       "      <td>0.0</td>\n",
       "      <td>0.0</td>\n",
       "    </tr>\n",
       "    <tr>\n",
       "      <th>9695</th>\n",
       "      <td>0.0</td>\n",
       "      <td>0.0</td>\n",
       "      <td>0.0</td>\n",
       "      <td>0.0</td>\n",
       "      <td>0.0</td>\n",
       "      <td>0.0</td>\n",
       "      <td>0.0</td>\n",
       "      <td>0.0</td>\n",
       "      <td>0.0</td>\n",
       "      <td>0.0</td>\n",
       "      <td>...</td>\n",
       "      <td>0.0</td>\n",
       "      <td>0.0</td>\n",
       "      <td>0.0</td>\n",
       "      <td>0.0</td>\n",
       "      <td>0.0</td>\n",
       "      <td>0.0</td>\n",
       "      <td>0.0</td>\n",
       "      <td>0.0</td>\n",
       "      <td>0.0</td>\n",
       "      <td>0.0</td>\n",
       "    </tr>\n",
       "  </tbody>\n",
       "</table>\n",
       "<p>9696 rows × 28464 columns</p>\n",
       "</div>"
      ],
      "text/plain": [
       "       00  000  0000  0000000  000000992432  0000028368  0000047237  \\\n",
       "0     0.0  0.0   0.0      0.0           0.0         0.0         0.0   \n",
       "1     0.0  0.0   0.0      0.0           0.0         0.0         0.0   \n",
       "2     0.0  0.0   0.0      0.0           0.0         0.0         0.0   \n",
       "3     0.0  0.0   0.0      0.0           0.0         0.0         0.0   \n",
       "4     0.0  0.0   0.0      0.0           0.0         0.0         0.0   \n",
       "...   ...  ...   ...      ...           ...         ...         ...   \n",
       "9691  0.0  0.0   0.0      0.0           0.0         0.0         0.0   \n",
       "9692  0.0  0.0   0.0      0.0           0.0         0.0         0.0   \n",
       "9693  0.0  0.0   0.0      0.0           0.0         0.0         0.0   \n",
       "9694  0.0  0.0   0.0      0.0           0.0         0.0         0.0   \n",
       "9695  0.0  0.0   0.0      0.0           0.0         0.0         0.0   \n",
       "\n",
       "      0000142805  0000357766  0000373427  ...  żółty  żółtą  żąda  żądają  \\\n",
       "0            0.0         0.0         0.0  ...    0.0    0.0   0.0     0.0   \n",
       "1            0.0         0.0         0.0  ...    0.0    0.0   0.0     0.0   \n",
       "2            0.0         0.0         0.0  ...    0.0    0.0   0.0     0.0   \n",
       "3            0.0         0.0         0.0  ...    0.0    0.0   0.0     0.0   \n",
       "4            0.0         0.0         0.0  ...    0.0    0.0   0.0     0.0   \n",
       "...          ...         ...         ...  ...    ...    ...   ...     ...   \n",
       "9691         0.0         0.0         0.0  ...    0.0    0.0   0.0     0.0   \n",
       "9692         0.0         0.0         0.0  ...    0.0    0.0   0.0     0.0   \n",
       "9693         0.0         0.0         0.0  ...    0.0    0.0   0.0     0.0   \n",
       "9694         0.0         0.0         0.0  ...    0.0    0.0   0.0     0.0   \n",
       "9695         0.0         0.0         0.0  ...    0.0    0.0   0.0     0.0   \n",
       "\n",
       "      żądam  żądania  żądanie  żądany  żądanych   żę  \n",
       "0       0.0      0.0      0.0     0.0       0.0  0.0  \n",
       "1       0.0      0.0      0.0     0.0       0.0  0.0  \n",
       "2       0.0      0.0      0.0     0.0       0.0  0.0  \n",
       "3       0.0      0.0      0.0     0.0       0.0  0.0  \n",
       "4       0.0      0.0      0.0     0.0       0.0  0.0  \n",
       "...     ...      ...      ...     ...       ...  ...  \n",
       "9691    0.0      0.0      0.0     0.0       0.0  0.0  \n",
       "9692    0.0      0.0      0.0     0.0       0.0  0.0  \n",
       "9693    0.0      0.0      0.0     0.0       0.0  0.0  \n",
       "9694    0.0      0.0      0.0     0.0       0.0  0.0  \n",
       "9695    0.0      0.0      0.0     0.0       0.0  0.0  \n",
       "\n",
       "[9696 rows x 28464 columns]"
      ]
     },
     "execution_count": 64,
     "metadata": {},
     "output_type": "execute_result"
    }
   ],
   "source": [
    "pd.DataFrame(X_train_tf.todense(),\n",
    "             columns=tfidf.get_feature_names_out())"
   ]
  },
  {
   "cell_type": "code",
   "execution_count": 65,
   "metadata": {},
   "outputs": [
    {
     "name": "stdout",
     "output_type": "stream",
     "text": [
      "              precision    recall  f1-score   support\n",
      "\n",
      "       adres       0.80      0.89      0.84       186\n",
      "    anulacja       0.96      0.89      0.92       185\n",
      "        brak       0.80      0.77      0.79       154\n",
      "     dostawa       0.71      0.77      0.74       196\n",
      "     faktura       0.97      0.97      0.97       208\n",
      "        inne       0.81      0.54      0.65        24\n",
      "niekompletne       0.91      0.75      0.82        79\n",
      "  opóźnienie       0.91      0.45      0.61        22\n",
      "      paczka       0.88      0.75      0.81       199\n",
      "     ponowna       0.85      0.62      0.72        37\n",
      "   przesyłka       0.88      0.67      0.76        84\n",
      "      refund       0.85      0.84      0.85       146\n",
      "  reklamacja       0.69      0.80      0.74       208\n",
      "  uszkodzony       0.78      0.71      0.74        76\n",
      "     wysyłka       0.75      0.87      0.81       216\n",
      "   zapytanie       0.85      0.92      0.88       202\n",
      "       zwrot       0.74      0.74      0.74       203\n",
      "\n",
      "    accuracy                           0.82      2425\n",
      "   macro avg       0.83      0.76      0.79      2425\n",
      "weighted avg       0.82      0.82      0.81      2425\n",
      "\n"
     ]
    }
   ],
   "source": [
    "from sklearn.linear_model import LogisticRegression\n",
    "\n",
    "lr = LogisticRegression()\n",
    "lr.fit(X_train_tf, y_train)\n",
    "\n",
    "y_pred = lr.predict(X_test_tf)\n",
    "\n",
    "from sklearn.metrics import classification_report\n",
    "\n",
    "print(classification_report(y_test, y_pred))"
   ]
  },
  {
   "cell_type": "code",
   "execution_count": 66,
   "metadata": {},
   "outputs": [
    {
     "name": "stdout",
     "output_type": "stream",
     "text": [
      "              precision    recall  f1-score   support\n",
      "\n",
      "       adres       0.76      0.90      0.82       186\n",
      "    anulacja       0.95      0.90      0.93       185\n",
      "        brak       0.80      0.76      0.78       154\n",
      "     dostawa       0.71      0.74      0.72       196\n",
      "     faktura       0.94      0.96      0.95       208\n",
      "        inne       0.87      0.54      0.67        24\n",
      "niekompletne       0.95      0.80      0.87        79\n",
      "  opóźnienie       0.71      0.45      0.56        22\n",
      "      paczka       0.87      0.79      0.83       199\n",
      "     ponowna       0.84      0.70      0.76        37\n",
      "   przesyłka       0.87      0.71      0.78        84\n",
      "      refund       0.86      0.86      0.86       146\n",
      "  reklamacja       0.69      0.78      0.73       208\n",
      "  uszkodzony       0.76      0.74      0.75        76\n",
      "     wysyłka       0.85      0.85      0.85       216\n",
      "   zapytanie       0.87      0.92      0.90       202\n",
      "       zwrot       0.69      0.69      0.69       203\n",
      "\n",
      "    accuracy                           0.82      2425\n",
      "   macro avg       0.82      0.77      0.79      2425\n",
      "weighted avg       0.82      0.82      0.82      2425\n",
      "\n"
     ]
    }
   ],
   "source": [
    "from sklearn.ensemble import RandomForestClassifier\n",
    "\n",
    "rfc = RandomForestClassifier()\n",
    "rfc.fit(X_train_tf, y_train)\n",
    "\n",
    "y_pred = rfc.predict(X_test_tf)\n",
    "\n",
    "from sklearn.metrics import classification_report\n",
    "\n",
    "print(classification_report(y_test, y_pred))"
   ]
  },
  {
   "cell_type": "code",
   "execution_count": 67,
   "metadata": {},
   "outputs": [
    {
     "name": "stdout",
     "output_type": "stream",
     "text": [
      "              precision    recall  f1-score   support\n",
      "\n",
      "       adres       0.84      0.83      0.84       186\n",
      "    anulacja       0.87      0.88      0.87       185\n",
      "        brak       0.65      0.47      0.55       154\n",
      "     dostawa       0.48      0.78      0.59       196\n",
      "     faktura       0.96      0.95      0.95       208\n",
      "        inne       0.86      0.50      0.63        24\n",
      "niekompletne       1.00      0.18      0.30        79\n",
      "  opóźnienie       0.00      0.00      0.00        22\n",
      "      paczka       0.87      0.55      0.67       199\n",
      "     ponowna       0.00      0.00      0.00        37\n",
      "   przesyłka       1.00      0.36      0.53        84\n",
      "      refund       0.86      0.73      0.79       146\n",
      "  reklamacja       0.56      0.83      0.67       208\n",
      "  uszkodzony       0.88      0.18      0.30        76\n",
      "     wysyłka       0.55      0.82      0.66       216\n",
      "   zapytanie       0.91      0.88      0.89       202\n",
      "       zwrot       0.56      0.75      0.64       203\n",
      "\n",
      "    accuracy                           0.70      2425\n",
      "   macro avg       0.70      0.57      0.58      2425\n",
      "weighted avg       0.74      0.70      0.69      2425\n",
      "\n"
     ]
    }
   ],
   "source": [
    "from sklearn.naive_bayes import MultinomialNB\n",
    "\n",
    "mnb = MultinomialNB()\n",
    "mnb.fit(X_train_tf, y_train)\n",
    "\n",
    "y_pred = mnb.predict(X_test_tf)\n",
    "\n",
    "from sklearn.metrics import classification_report\n",
    "\n",
    "print(classification_report(y_test, y_pred))"
   ]
  },
  {
   "cell_type": "markdown",
   "metadata": {},
   "source": [
    "spaCy model"
   ]
  },
  {
   "cell_type": "code",
   "execution_count": 68,
   "metadata": {},
   "outputs": [],
   "source": [
    "from spacy.lang.pt.stop_words import STOP_WORDS\n",
    "import string"
   ]
  },
  {
   "cell_type": "code",
   "execution_count": 69,
   "metadata": {},
   "outputs": [],
   "source": [
    "nlp = spacy.blank(\"pl\")"
   ]
  },
  {
   "cell_type": "code",
   "execution_count": 70,
   "metadata": {},
   "outputs": [],
   "source": [
    "df = pd.DataFrame(df_to_model[['Description', 'final_label']])\n",
    "df.reset_index(inplace=True)"
   ]
  },
  {
   "cell_type": "code",
   "execution_count": 71,
   "metadata": {},
   "outputs": [],
   "source": [
    "REGX_URL = r\"(https?://|www\\.)[^\\s/$.?#].[^\\s]*\"\n",
    "\n",
    "def preprocessing(text):\n",
    "  text = text.lower()\n",
    "  text = text.replace(\"&quot;\", '\"')\n",
    "\n",
    "  text = re.sub(REGX_URL, ' ', text)\n",
    "\n",
    "  tokens = [token.text for token in nlp(text)]\n",
    "\n",
    "  tokens = [t for t in tokens if \n",
    "              t not in STOP_WORDS and \n",
    "              t not in string.punctuation]\n",
    "\n",
    "  tokens = [t for t in tokens if not t.isdigit()]\n",
    "\n",
    "  return \" \".join(tokens)"
   ]
  },
  {
   "cell_type": "code",
   "execution_count": 72,
   "metadata": {},
   "outputs": [],
   "source": [
    "df['Description_cleaned'] = df['Description'].apply(preprocessing)"
   ]
  },
  {
   "cell_type": "code",
   "execution_count": 73,
   "metadata": {},
   "outputs": [],
   "source": [
    "y =pd.get_dummies((df['final_label']), prefix='label')\n",
    "label = list(y.columns)\n",
    "y = y.to_dict('index')"
   ]
  },
  {
   "cell_type": "code",
   "execution_count": 74,
   "metadata": {},
   "outputs": [
    {
     "name": "stdout",
     "output_type": "stream",
     "text": [
      "('klient ma pytanie produktu b07r42w8j9 jakie połączenie ma dachówka wentylacyjna link zapytania    pozdrawiam beata', {'cats': {'label_adres': 0, 'label_anulacja': 0, 'label_brak': 0, 'label_dostawa': 0, 'label_faktura': 0, 'label_inne': 0, 'label_niekompletne': 0, 'label_opóźnienie': 0, 'label_paczka': 0, 'label_ponowna': 0, 'label_przesyłka': 0, 'label_refund': 0, 'label_reklamacja': 0, 'label_uszkodzony': 0, 'label_wysyłka': 0, 'label_zapytanie': 1, 'label_zwrot': 0}})\n"
     ]
    }
   ],
   "source": [
    "dataset = list(zip(df['Description_cleaned'], [{'cats':cats} for cats in y.values()]))\n",
    "print(dataset[0])"
   ]
  },
  {
   "cell_type": "code",
   "execution_count": 75,
   "metadata": {},
   "outputs": [
    {
     "name": "stdout",
     "output_type": "stream",
     "text": [
      "Total: 12121 - Train:  9090 - Dev: 1818 - Test: 1213\n"
     ]
    }
   ],
   "source": [
    "train_data, test_data = train_test_split(dataset,\n",
    "                                        test_size=0.25,\n",
    "                                        random_state=42)\n",
    "dev_data, test_data = train_test_split(test_data, \n",
    "                                       test_size=0.4,\n",
    "                                       random_state=42)\n",
    "\n",
    "print(f\"Total: {len(dataset)} - Train:  {len(train_data)} - Dev: {len(dev_data)} - Test: {len(test_data)}\")"
   ]
  },
  {
   "cell_type": "code",
   "execution_count": 76,
   "metadata": {},
   "outputs": [],
   "source": [
    "def convert(data, outfile):\n",
    "    db = spacy.tokens.DocBin()\n",
    "\n",
    "    for text, labels in data:\n",
    "        doc = spacy.tokens.Doc(nlp.vocab, words=text.split())\n",
    "        doc.cats.update(labels['cats'])\n",
    "        db.add(doc)\n",
    "\n",
    "    db.to_disk(outfile)\n",
    "\n",
    "convert(train_data, \"./train.spacy\")\n",
    "convert(dev_data, \"./dev.spacy\")\n",
    "convert(test_data, \"./test.spacy\")"
   ]
  },
  {
   "cell_type": "code",
   "execution_count": 77,
   "metadata": {},
   "outputs": [],
   "source": [
    "textcat = nlp.add_pipe(\"textcat_multilabel\")\n",
    "for i in label:\n",
    "    textcat.add_label(i)"
   ]
  },
  {
   "cell_type": "code",
   "execution_count": 78,
   "metadata": {},
   "outputs": [
    {
     "name": "stdout",
     "output_type": "stream",
     "text": [
      "\u001b[38;5;2m✔ Auto-filled config with all values\u001b[0m\n",
      "\u001b[38;5;2m✔ Saved config\u001b[0m\n",
      "config.cfg\n",
      "You can now add your data and train your pipeline:\n",
      "python -m spacy train config.cfg --paths.train ./train.spacy --paths.dev ./dev.spacy\n"
     ]
    }
   ],
   "source": [
    "# ! python -m spacy init fill-config base_config.cfg config.cfg"
   ]
  },
  {
   "cell_type": "code",
   "execution_count": 79,
   "metadata": {},
   "outputs": [],
   "source": [
    "# ! python -m spacy train config.cfg --paths.train ./train.spacy  --paths.dev ./dev.spacy --output model --verbose"
   ]
  },
  {
   "cell_type": "code",
   "execution_count": 80,
   "metadata": {},
   "outputs": [],
   "source": [
    "# output_dir = 'C:\\\\Users\\\\48575\\\\email_classification\\\\spaCy_model'\n",
    "# nlp.to_disk(output_dir)"
   ]
  },
  {
   "cell_type": "code",
   "execution_count": 81,
   "metadata": {},
   "outputs": [],
   "source": [
    "saved_model_dir = 'C:\\\\Users\\\\48575\\\\email_classification\\\\spaCy_model'\n",
    "nlp = spacy.load(saved_model_dir)"
   ]
  },
  {
   "cell_type": "code",
   "execution_count": 82,
   "metadata": {},
   "outputs": [
    {
     "name": "stdout",
     "output_type": "stream",
     "text": [
      "\u001b[38;5;4mℹ Using CPU\u001b[0m\n",
      "\u001b[1m\n",
      "================================== Results ==================================\u001b[0m\n",
      "\n",
      "TOK                   -     \n",
      "TEXTCAT (macro AUC)   94.54 \n",
      "SPEED                 187704\n",
      "\n",
      "\u001b[1m\n",
      "=========================== Textcat F (per label) ===========================\u001b[0m\n",
      "\n",
      "                          P       R       F\n",
      "label_adres          100.00   82.35   90.32\n",
      "label_anulacja        96.51   94.32   95.40\n",
      "label_brak            92.31   82.19   86.96\n",
      "label_dostawa         87.50   27.45   41.79\n",
      "label_faktura         99.04   97.17   98.10\n",
      "label_inne           100.00   38.89   56.00\n",
      "label_niekompletne    89.19   89.19   89.19\n",
      "label_opóźnienie     100.00   72.73   84.21\n",
      "label_paczka          92.63   81.48   86.70\n",
      "label_ponowna        100.00   73.91   85.00\n",
      "label_przesyłka      100.00   76.19   86.49\n",
      "label_refund          85.53   92.86   89.04\n",
      "label_reklamacja      95.35   82.00   88.17\n",
      "label_uszkodzony      93.75   78.95   85.71\n",
      "label_wysyłka         95.45   19.44   32.31\n",
      "label_zapytanie       97.44   84.44   90.48\n",
      "label_zwrot           98.59   73.68   84.34\n",
      "\n",
      "\u001b[1m\n",
      "======================== Textcat ROC AUC (per label) ========================\u001b[0m\n",
      "\n",
      "                     ROC AUC\n",
      "label_adres             0.98\n",
      "label_anulacja          0.98\n",
      "label_brak              1.00\n",
      "label_dostawa           0.86\n",
      "label_faktura           1.00\n",
      "label_inne              0.50\n",
      "label_niekompletne      1.00\n",
      "label_opóźnienie        0.98\n",
      "label_paczka            0.98\n",
      "label_ponowna           1.00\n",
      "label_przesyłka         0.93\n",
      "label_refund            1.00\n",
      "label_reklamacja        0.99\n",
      "label_uszkodzony        0.97\n",
      "label_wysyłka           0.96\n",
      "label_zapytanie         1.00\n",
      "label_zwrot             0.96\n",
      "\n"
     ]
    }
   ],
   "source": [
    "! python -m spacy evaluate ./model/model-best/ ./test.spacy"
   ]
  },
  {
   "cell_type": "code",
   "execution_count": 91,
   "metadata": {},
   "outputs": [],
   "source": [
    "def predict_spaCy (text):\n",
    "    preprocessed_text = preprocessing(text)\n",
    "    doc = nlp(preprocessed_text)\n",
    "    label = max(doc.cats, key=doc.cats.get)\n",
    "    return label"
   ]
  }
 ],
 "metadata": {
  "kernelspec": {
   "display_name": "Python 3",
   "language": "python",
   "name": "python3"
  },
  "language_info": {
   "codemirror_mode": {
    "name": "ipython",
    "version": 3
   },
   "file_extension": ".py",
   "mimetype": "text/x-python",
   "name": "python",
   "nbconvert_exporter": "python",
   "pygments_lexer": "ipython3",
   "version": "3.11.3"
  },
  "orig_nbformat": 4
 },
 "nbformat": 4,
 "nbformat_minor": 2
}
