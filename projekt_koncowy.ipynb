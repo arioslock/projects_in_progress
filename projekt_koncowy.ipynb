{
 "cells": [
  {
   "cell_type": "code",
   "execution_count": 1,
   "metadata": {},
   "outputs": [],
   "source": [
    "import pandas as pd\n",
    "import numpy as np\n",
    "import re\n",
    "import spacy"
   ]
  },
  {
   "cell_type": "code",
   "execution_count": 2,
   "metadata": {},
   "outputs": [],
   "source": [
    "pd.set_option('display.max_colwidth', 1000)"
   ]
  },
  {
   "cell_type": "code",
   "execution_count": 3,
   "metadata": {},
   "outputs": [],
   "source": [
    "all_amz_go = pd.read_csv('F:\\\\mailae_g\\\\ALL_MAG_2021+2022.csv', sep=';' )\n",
    "all_cus_go = pd.read_csv('F:\\\\mailae_g\\\\ALL_PL_2022.csv', sep=';')"
   ]
  },
  {
   "cell_type": "code",
   "execution_count": 4,
   "metadata": {},
   "outputs": [
    {
     "data": {
      "text/html": [
       "<div>\n",
       "<style scoped>\n",
       "    .dataframe tbody tr th:only-of-type {\n",
       "        vertical-align: middle;\n",
       "    }\n",
       "\n",
       "    .dataframe tbody tr th {\n",
       "        vertical-align: top;\n",
       "    }\n",
       "\n",
       "    .dataframe thead th {\n",
       "        text-align: right;\n",
       "    }\n",
       "</style>\n",
       "<table border=\"1\" class=\"dataframe\">\n",
       "  <thead>\n",
       "    <tr style=\"text-align: right;\">\n",
       "      <th></th>\n",
       "      <th>Ticket Id</th>\n",
       "      <th>Subject</th>\n",
       "      <th>Description</th>\n",
       "      <th>Source</th>\n",
       "      <th>Requester Email</th>\n",
       "      <th>Created Time</th>\n",
       "      <th>Agent interactions</th>\n",
       "      <th>Customer interactions</th>\n",
       "      <th>Tags</th>\n",
       "    </tr>\n",
       "  </thead>\n",
       "  <tbody>\n",
       "    <tr>\n",
       "      <th>0</th>\n",
       "      <td>16477</td>\n",
       "      <td>Frage von Amazon-Kunde Anja Klose</td>\n",
       "      <td>Skraut Home- Glanzlack Wohnwand. Von dem großen hängeschrank der Boden ist beschädigt. Beim Dübel loch ist was abgebrochen.</td>\n",
       "      <td>Email</td>\n",
       "      <td>freshdeskuser_18653026@channelreply.email</td>\n",
       "      <td>13 09 2021 15:58</td>\n",
       "      <td>26</td>\n",
       "      <td>18</td>\n",
       "      <td>lukfurniture_de,cr,lukfurniture,rynek_de</td>\n",
       "    </tr>\n",
       "    <tr>\n",
       "      <th>1</th>\n",
       "      <td>83046</td>\n",
       "      <td>Frage von Amazon-Kunde Furkan Aydin(Bestellung: 306-1709843-3097134)</td>\n",
       "      <td>Hallo Die schiene von der schublade ist kaputt da fallen die kleinen Kugeln raus. Ich möchte gerne 2 schienen.</td>\n",
       "      <td>Email</td>\n",
       "      <td>freshdeskuser_20098643@channelreply.email</td>\n",
       "      <td>7 12 2021 22:56</td>\n",
       "      <td>12</td>\n",
       "      <td>6</td>\n",
       "      <td>lukfurniture_de,cr,lukfurniture,rynek_de</td>\n",
       "    </tr>\n",
       "    <tr>\n",
       "      <th>2</th>\n",
       "      <td>92323</td>\n",
       "      <td>Return policy enquiry from Amazon customer Mrs Susan Tolley(Order: 204-9663987-5997940)</td>\n",
       "      <td>Hi I purchased the welder back in April 2021 but due to ill health I have only been able to try the welder today. Unfortunately It does not work. I think there maybe a problem with the MIG output to the switch on the gun. I have used a test meter on the contacts and have no output. Please can you advise. Thankyou.</td>\n",
       "      <td>Email</td>\n",
       "      <td>freshdeskuser_20274812@channelreply.email</td>\n",
       "      <td>16 12 2021 13:51</td>\n",
       "      <td>65</td>\n",
       "      <td>40</td>\n",
       "      <td>cr,rynek_uk,allweld,allweld_uk</td>\n",
       "    </tr>\n",
       "    <tr>\n",
       "      <th>3</th>\n",
       "      <td>165940</td>\n",
       "      <td>Frage von Amazon-Kunde Fjolla(Bestellung: 306-7063158-3705902)</td>\n",
       "      <td>Sehr Geehrte Damen und Herren Es geht um meine Bestellung die ich seit Wochen gemacht habe.Auf meine Bestellung steht dass mein Paket möglicherweise verloren gegangen ist.Ich habe dafür Geld bezahlt.Wie können sie mir weiter helfen? Mit Freundliche Grüßen</td>\n",
       "      <td>Email</td>\n",
       "      <td>freshdeskuser_21788405@channelreply.email</td>\n",
       "      <td>19 03 2022 17:47</td>\n",
       "      <td>14</td>\n",
       "      <td>9</td>\n",
       "      <td>lukfurniture_de,cr,lukfurniture,rynek_de</td>\n",
       "    </tr>\n",
       "    <tr>\n",
       "      <th>4</th>\n",
       "      <td>192109</td>\n",
       "      <td>? Sie haben einen neuen Preisvorschlag: EUR 60,00 für NeoNail Nagelstudio ... (373940992894)</td>\n",
       "      <td>Preisvorschlag: EUR 60,00 Preisvorschlag: EUR 60,00 Jetzt antworten: https://www.ebay.de/ulk/showOffers/373940992894?boolp=1&amp;amp;mkevt=1&amp;amp;mkpid=0&amp;amp;emsid=e12060.m3112.l44861&amp;amp;mkcid=26&amp;amp;ch=osgood&amp;amp;euid=0fe5676504234b2c849a719471b7060f&amp;amp;bu=45010273334&amp;amp;osub=-1%7E1&amp;amp;crd=20220424091836&amp;amp;segname=12060&amp;amp;sojTags=ch%3Dch%2Cbu%3Dbu%2Cosub%3Dosub%2Ccrd%3Dcrd%2Csegname%3Dsegname%2Cchnl%3Dmkcid Artikel ansehen: https://www.ebay.de/itm/373940992894?mkevt=1&amp;amp;mkpid=0&amp;amp;emsid=e12060.m3112.l44862&amp;amp;mkcid=26&amp;amp;ch=osgood&amp;amp;euid=0fe5676504234b2c849a719471b7060f&amp;amp;bu=45010273334&amp;amp;osub=-1%7E1&amp;amp;crd=20220424091836&amp;amp;segname=12060&amp;amp;sojTags=ch%3Dch%2Cbu%3Dbu%2Cosub%3Dosub%2Ccrd%3Dcrd%2Csegname%3Dsegname%2Cchnl%3Dmkcid Unter Angebotspreis EUR 4,89 Dieses Angebot sichern 9 Beobachter meliba601: https://www.ebay.de/ulk/usr/meliba601?mkevt=1&amp;amp;mkpid=0&amp;amp;emsid=e12060.m3112.l44863&amp;amp;mkcid=26&amp;amp;ch=osgood&amp;amp;euid=0fe5676504234b2c849a719471b7060f&amp;amp;bu=4...</td>\n",
       "      <td>Email</td>\n",
       "      <td>freshdeskuser_22171370@channelreply.email</td>\n",
       "      <td>24 04 2022 18:56</td>\n",
       "      <td>1</td>\n",
       "      <td>12</td>\n",
       "      <td>ServiceMessage,cr,gashio,gashio_de_eb,ebay,rynek_de_eb</td>\n",
       "    </tr>\n",
       "  </tbody>\n",
       "</table>\n",
       "</div>"
      ],
      "text/plain": [
       "   Ticket Id   \n",
       "0      16477  \\\n",
       "1      83046   \n",
       "2      92323   \n",
       "3     165940   \n",
       "4     192109   \n",
       "\n",
       "                                                                                        Subject   \n",
       "0                                                             Frage von Amazon-Kunde Anja Klose  \\\n",
       "1                          Frage von Amazon-Kunde Furkan Aydin(Bestellung: 306-1709843-3097134)   \n",
       "2       Return policy enquiry from Amazon customer Mrs Susan Tolley(Order: 204-9663987-5997940)   \n",
       "3                                Frage von Amazon-Kunde Fjolla(Bestellung: 306-7063158-3705902)   \n",
       "4  ? Sie haben einen neuen Preisvorschlag: EUR 60,00 für NeoNail Nagelstudio ... (373940992894)   \n",
       "\n",
       "                                                                                                                                                                                                                                                                                                                                                                                                                                                                                                                                                                                                                                                                                                                                                                                                                                                                                                                                                                                                                               Description   \n",
       "0                                                                                                                                                                                                                                                                                                                                                                                                                                                                                                                                                                                                                                                                                                                                                                                                                                                                                                              Skraut Home- Glanzlack Wohnwand. Von dem großen hängeschrank der Boden ist beschädigt. Beim Dübel loch ist was abgebrochen.  \\\n",
       "1                                                                                                                                                                                                                                                                                                                                                                                                                                                                                                                                                                                                                                                                                                                                                                                                                                                                                                                           Hallo Die schiene von der schublade ist kaputt da fallen die kleinen Kugeln raus. Ich möchte gerne 2 schienen.   \n",
       "2                                                                                                                                                                                                                                                                                                                                                                                                                                                                                                                                                                                                                                                                                                              Hi I purchased the welder back in April 2021 but due to ill health I have only been able to try the welder today. Unfortunately It does not work. I think there maybe a problem with the MIG output to the switch on the gun. I have used a test meter on the contacts and have no output. Please can you advise. Thankyou.   \n",
       "3                                                                                                                                                                                                                                                                                                                                                                                                                                                                                                                                                                                                                                                                                                                                                                          Sehr Geehrte Damen und Herren Es geht um meine Bestellung die ich seit Wochen gemacht habe.Auf meine Bestellung steht dass mein Paket möglicherweise verloren gegangen ist.Ich habe dafür Geld bezahlt.Wie können sie mir weiter helfen? Mit Freundliche Grüßen   \n",
       "4  Preisvorschlag: EUR 60,00 Preisvorschlag: EUR 60,00 Jetzt antworten: https://www.ebay.de/ulk/showOffers/373940992894?boolp=1&amp;mkevt=1&amp;mkpid=0&amp;emsid=e12060.m3112.l44861&amp;mkcid=26&amp;ch=osgood&amp;euid=0fe5676504234b2c849a719471b7060f&amp;bu=45010273334&amp;osub=-1%7E1&amp;crd=20220424091836&amp;segname=12060&amp;sojTags=ch%3Dch%2Cbu%3Dbu%2Cosub%3Dosub%2Ccrd%3Dcrd%2Csegname%3Dsegname%2Cchnl%3Dmkcid Artikel ansehen: https://www.ebay.de/itm/373940992894?mkevt=1&amp;mkpid=0&amp;emsid=e12060.m3112.l44862&amp;mkcid=26&amp;ch=osgood&amp;euid=0fe5676504234b2c849a719471b7060f&amp;bu=45010273334&amp;osub=-1%7E1&amp;crd=20220424091836&amp;segname=12060&amp;sojTags=ch%3Dch%2Cbu%3Dbu%2Cosub%3Dosub%2Ccrd%3Dcrd%2Csegname%3Dsegname%2Cchnl%3Dmkcid Unter Angebotspreis EUR 4,89 Dieses Angebot sichern 9 Beobachter meliba601: https://www.ebay.de/ulk/usr/meliba601?mkevt=1&amp;mkpid=0&amp;emsid=e12060.m3112.l44863&amp;mkcid=26&amp;ch=osgood&amp;euid=0fe5676504234b2c849a719471b7060f&amp;bu=4...   \n",
       "\n",
       "  Source                            Requester Email      Created Time   \n",
       "0  Email  freshdeskuser_18653026@channelreply.email  13 09 2021 15:58  \\\n",
       "1  Email  freshdeskuser_20098643@channelreply.email   7 12 2021 22:56   \n",
       "2  Email  freshdeskuser_20274812@channelreply.email  16 12 2021 13:51   \n",
       "3  Email  freshdeskuser_21788405@channelreply.email  19 03 2022 17:47   \n",
       "4  Email  freshdeskuser_22171370@channelreply.email  24 04 2022 18:56   \n",
       "\n",
       "   Agent interactions  Customer interactions   \n",
       "0                  26                     18  \\\n",
       "1                  12                      6   \n",
       "2                  65                     40   \n",
       "3                  14                      9   \n",
       "4                   1                     12   \n",
       "\n",
       "                                                     Tags  \n",
       "0                lukfurniture_de,cr,lukfurniture,rynek_de  \n",
       "1                lukfurniture_de,cr,lukfurniture,rynek_de  \n",
       "2                          cr,rynek_uk,allweld,allweld_uk  \n",
       "3                lukfurniture_de,cr,lukfurniture,rynek_de  \n",
       "4  ServiceMessage,cr,gashio,gashio_de_eb,ebay,rynek_de_eb  "
      ]
     },
     "execution_count": 4,
     "metadata": {},
     "output_type": "execute_result"
    }
   ],
   "source": [
    "all_amz_go.head(5)"
   ]
  },
  {
   "cell_type": "code",
   "execution_count": 5,
   "metadata": {},
   "outputs": [
    {
     "data": {
      "text/html": [
       "<div>\n",
       "<style scoped>\n",
       "    .dataframe tbody tr th:only-of-type {\n",
       "        vertical-align: middle;\n",
       "    }\n",
       "\n",
       "    .dataframe tbody tr th {\n",
       "        vertical-align: top;\n",
       "    }\n",
       "\n",
       "    .dataframe thead th {\n",
       "        text-align: right;\n",
       "    }\n",
       "</style>\n",
       "<table border=\"1\" class=\"dataframe\">\n",
       "  <thead>\n",
       "    <tr style=\"text-align: right;\">\n",
       "      <th></th>\n",
       "      <th>Ticket Id</th>\n",
       "      <th>Subject</th>\n",
       "      <th>Description</th>\n",
       "      <th>Source</th>\n",
       "      <th>Requester Email</th>\n",
       "      <th>Created Time</th>\n",
       "      <th>Agent interactions</th>\n",
       "      <th>Customer interactions</th>\n",
       "      <th>Tags</th>\n",
       "    </tr>\n",
       "  </thead>\n",
       "  <tbody>\n",
       "    <tr>\n",
       "      <th>0</th>\n",
       "      <td>111345</td>\n",
       "      <td>[DE] [PYTANIE] B07R42W8J9</td>\n",
       "      <td>Klient ma pytanie do produktu B07R42W8J9: &amp;quot;Jakie połączenie ma dachówka wentylacyjna?&amp;quot; Link do zapytania: www.amazon.de/ask/question/Tx21NZNJ8PMI5JH?_encoding=UTF8&amp;amp;authToken=967c969c-3f2e-47dd-b5e6-faeb39d052d1&amp;amp;ref_=s_respond&amp;amp;answerSolicitationSourceType=EMAIL&amp;amp;answerSolicitationLanguage=de_DE Pozdrawiam Beata</td>\n",
       "      <td>Outbound Email</td>\n",
       "      <td>shop@folnet.de</td>\n",
       "      <td>10 01 2022 10:47</td>\n",
       "      <td>4</td>\n",
       "      <td>4</td>\n",
       "      <td>Partner_wysłane,rynek_de</td>\n",
       "    </tr>\n",
       "    <tr>\n",
       "      <th>1</th>\n",
       "      <td>128291</td>\n",
       "      <td>[DE] 302-0014409-7188317 NIEKOMPLETNE</td>\n",
       "      <td>Klient zgłasza, że w zamówieniu nie było lampki. Pozdrawiam, Jakub</td>\n",
       "      <td>Outbound Email</td>\n",
       "      <td>info.palulli@gmail.com</td>\n",
       "      <td>30 01 2022 09:48</td>\n",
       "      <td>3</td>\n",
       "      <td>2</td>\n",
       "      <td>Partner_wysłane,rynek_de</td>\n",
       "    </tr>\n",
       "    <tr>\n",
       "      <th>2</th>\n",
       "      <td>128325</td>\n",
       "      <td>[REKLAMACJA] 205-9594094-3558723 UK</td>\n",
       "      <td>Dzień dobry, Klient napisał:  Ten produkt dotarł, ale nie działa, nie świeci się. Bardzo rozczarowany, ponieważ kupiłem go dla mojego dziecka. Brak zauważalnych wad, wszystko wydawało się w porządku po otwarciu. Mały przycisk przesuwa się w dół i wydaje się OK, ale nic się nie dzieje, gdy go nacisnąć. To nie świeci się, co było cały punkt z nim, i bardzo rozczarowujące dla mojej córki. Pozdrawiam, Hania</td>\n",
       "      <td>Outbound Email</td>\n",
       "      <td>polskaksiegarniainternetowa@gmail.com</td>\n",
       "      <td>30 01 2022 10:38</td>\n",
       "      <td>2</td>\n",
       "      <td>2</td>\n",
       "      <td>Partner_wysłane,rynek_uk,Przypomnienie</td>\n",
       "    </tr>\n",
       "    <tr>\n",
       "      <th>3</th>\n",
       "      <td>131092</td>\n",
       "      <td>[DE] [ZAPYTANIE] 305-6969626-5165121</td>\n",
       "      <td>Klient chciałby wiedzieć, czy materiał, z którego wykonane są klamki może być stosowany również na zewnątrz, np. na bocznych drzwiach wejściowych. Pozdrawiam Beata</td>\n",
       "      <td>Outbound Email</td>\n",
       "      <td>kotarbauzapytania@gmail.com</td>\n",
       "      <td>2 02 2022 16:10</td>\n",
       "      <td>4</td>\n",
       "      <td>4</td>\n",
       "      <td>Partner_wysłane,rynek_de,Przypomnienie</td>\n",
       "    </tr>\n",
       "    <tr>\n",
       "      <th>4</th>\n",
       "      <td>133983</td>\n",
       "      <td>[IT] 408-8392161-3066735 ZWROT</td>\n",
       "      <td>https://www.dhl.com/it-en/home/tracking/tracking-parcel.html?submit=1&amp;amp;tracking-id=CM332431606DE Paczka wraca do was, prosimy o refund dla klienta jak dojdzie Kasia</td>\n",
       "      <td>Outbound Email</td>\n",
       "      <td>kotarbauzapytania@gmail.com</td>\n",
       "      <td>7 02 2022 08:58</td>\n",
       "      <td>9</td>\n",
       "      <td>6</td>\n",
       "      <td>Partner_wysłane,rynek_it,Przypomnienie1,Przypomnienie2</td>\n",
       "    </tr>\n",
       "  </tbody>\n",
       "</table>\n",
       "</div>"
      ],
      "text/plain": [
       "   Ticket Id                                Subject   \n",
       "0     111345              [DE] [PYTANIE] B07R42W8J9  \\\n",
       "1     128291  [DE] 302-0014409-7188317 NIEKOMPLETNE   \n",
       "2     128325    [REKLAMACJA] 205-9594094-3558723 UK   \n",
       "3     131092   [DE] [ZAPYTANIE] 305-6969626-5165121   \n",
       "4     133983         [IT] 408-8392161-3066735 ZWROT   \n",
       "\n",
       "                                                                                                                                                                                                                                                                                                                                                                                                              Description   \n",
       "0                                                                        Klient ma pytanie do produktu B07R42W8J9: &quot;Jakie połączenie ma dachówka wentylacyjna?&quot; Link do zapytania: www.amazon.de/ask/question/Tx21NZNJ8PMI5JH?_encoding=UTF8&amp;authToken=967c969c-3f2e-47dd-b5e6-faeb39d052d1&amp;ref_=s_respond&amp;answerSolicitationSourceType=EMAIL&amp;answerSolicitationLanguage=de_DE Pozdrawiam Beata  \\\n",
       "1                                                                                                                                                                                                                                                                                                                                                      Klient zgłasza, że w zamówieniu nie było lampki. Pozdrawiam, Jakub   \n",
       "2  Dzień dobry, Klient napisał:  Ten produkt dotarł, ale nie działa, nie świeci się. Bardzo rozczarowany, ponieważ kupiłem go dla mojego dziecka. Brak zauważalnych wad, wszystko wydawało się w porządku po otwarciu. Mały przycisk przesuwa się w dół i wydaje się OK, ale nic się nie dzieje, gdy go nacisnąć. To nie świeci się, co było cały punkt z nim, i bardzo rozczarowujące dla mojej córki. Pozdrawiam, Hania   \n",
       "3                                                                                                                                                                                                                                                     Klient chciałby wiedzieć, czy materiał, z którego wykonane są klamki może być stosowany również na zewnątrz, np. na bocznych drzwiach wejściowych. Pozdrawiam Beata   \n",
       "4                                                                                                                                                                                                                                                 https://www.dhl.com/it-en/home/tracking/tracking-parcel.html?submit=1&amp;tracking-id=CM332431606DE Paczka wraca do was, prosimy o refund dla klienta jak dojdzie Kasia   \n",
       "\n",
       "           Source                        Requester Email      Created Time   \n",
       "0  Outbound Email                         shop@folnet.de  10 01 2022 10:47  \\\n",
       "1  Outbound Email                 info.palulli@gmail.com  30 01 2022 09:48   \n",
       "2  Outbound Email  polskaksiegarniainternetowa@gmail.com  30 01 2022 10:38   \n",
       "3  Outbound Email            kotarbauzapytania@gmail.com   2 02 2022 16:10   \n",
       "4  Outbound Email            kotarbauzapytania@gmail.com   7 02 2022 08:58   \n",
       "\n",
       "   Agent interactions  Customer interactions   \n",
       "0                   4                      4  \\\n",
       "1                   3                      2   \n",
       "2                   2                      2   \n",
       "3                   4                      4   \n",
       "4                   9                      6   \n",
       "\n",
       "                                                     Tags  \n",
       "0                                Partner_wysłane,rynek_de  \n",
       "1                                Partner_wysłane,rynek_de  \n",
       "2                  Partner_wysłane,rynek_uk,Przypomnienie  \n",
       "3                  Partner_wysłane,rynek_de,Przypomnienie  \n",
       "4  Partner_wysłane,rynek_it,Przypomnienie1,Przypomnienie2  "
      ]
     },
     "execution_count": 5,
     "metadata": {},
     "output_type": "execute_result"
    }
   ],
   "source": [
    "all_cus_go.head(5)"
   ]
  },
  {
   "cell_type": "code",
   "execution_count": 6,
   "metadata": {},
   "outputs": [],
   "source": [
    "all_amz_go.reset_index(drop=True, inplace=True)\n",
    "all_cus_go.reset_index(drop=True, inplace=True)"
   ]
  },
  {
   "cell_type": "code",
   "execution_count": 7,
   "metadata": {},
   "outputs": [],
   "source": [
    "# Funkcja do dzielenia komórek na listę, pierwszy argument tekst, drugi argument po czym tekst ma być dzielony \n",
    "\n",
    "def split_tags(tags: str, split_char: str) -> list:\n",
    "    try:\n",
    "        tags = tags.split(f'{split_char}')\n",
    "        return tags \n",
    "    except Exception:\n",
    "        return (list[tags])\n",
    "    "
   ]
  },
  {
   "cell_type": "code",
   "execution_count": 8,
   "metadata": {},
   "outputs": [],
   "source": [
    "# funkcja do wyciągania z listy, jakiego rynku dotyczą wiadomości\n",
    "\n",
    "def get_market(lst: list) -> str:\n",
    "    for i in lst:\n",
    "        if \"rynek\" in i:\n",
    "            return i"
   ]
  },
  {
   "cell_type": "code",
   "execution_count": 9,
   "metadata": {},
   "outputs": [],
   "source": [
    "# funkcja do wyciągania numerów zamówień z tekstu i tytułu maila. Przyjmuje dwa różne ciągi tekstowe, sprawdza czy jest w tytule jest regex, jeśli nie to sprawdza czy jest w opisie, jeśli nie to zwraca pustą listę\n",
    "\n",
    "se = re.compile(r\"\\d{3}-\\d{7}-\\d{7}\")\n",
    "\n",
    "def order_number(subject: str, description: str) -> list:\n",
    "    subject = str(subject)\n",
    "    description = str(description)\n",
    "    if se.findall(subject) == []:\n",
    "        return se.findall(description)\n",
    "    return se.findall(subject)\n"
   ]
  },
  {
   "cell_type": "code",
   "execution_count": 10,
   "metadata": {},
   "outputs": [],
   "source": [
    "# funkcja do tworzenia listy unikalnych wartości z kolumn. Dajemy wartość z kolumny i listę. Sprawdza czy wartość już znajduje się na liście, jeśli nie to ją dodaje\n",
    "\n",
    "def all_order(order: list, new_list: list) -> list:\n",
    "    try:\n",
    "        if order[0] in new_list:\n",
    "            return new_list\n",
    "        else:\n",
    "            new_list.append(order)\n",
    "            return new_list\n",
    "    except Exception:\n",
    "        i =1"
   ]
  },
  {
   "cell_type": "code",
   "execution_count": 11,
   "metadata": {},
   "outputs": [],
   "source": [
    "# druga funkcja do czyszczenia tytułów w celu zebrania etykiet do danych\n",
    "\n",
    "on = re.compile(r\"\\d{3}-\\d{7}-\\d{7}\")\n",
    "cc = re.compile(r\"w{2}\")\n",
    "cc2 = re.compile(r'\\[\\w{2}\\]')\n",
    "\n",
    "def clear_title(title_list: list) -> list:\n",
    "    for el in title_list:\n",
    "        print(el)\n",
    "    list_to_remove = []\n",
    "    for i in range(len(title_list)):\n",
    "        if re.match(on, title_list[i]):\n",
    "            title_list.remove(i)\n",
    "        elif re.match(cc, title_list[i]):\n",
    "            title_list.remove(i)\n",
    "        elif re.match(cc2, title_list[i]):\n",
    "            title_list.remove(i)\n",
    "    return title_list"
   ]
  },
  {
   "cell_type": "code",
   "execution_count": 12,
   "metadata": {},
   "outputs": [],
   "source": [
    "# trzecia funkcja do czyszczenia tytułów w celu zebrania etykiet do danych\n",
    "\n",
    "def num_there(s):\n",
    "    return any(i.isdigit() for i in s)\n",
    "\n",
    "def find_words_with_more_than_four_characters(words_with_tags):\n",
    "  words = []\n",
    "  for i in words_with_tags:\n",
    "    if num_there(i):\n",
    "      continue\n",
    "    w = re.sub('[^A-Za-zĄĆĘŁŃÓŚŹŻąćęłńóśźż]+', ' ', i)\n",
    "    w = w.strip(\" \")\n",
    "    if len(w) >= 4:\n",
    "      words.append(w)\n",
    "\n",
    "  return words"
   ]
  },
  {
   "cell_type": "code",
   "execution_count": 13,
   "metadata": {},
   "outputs": [],
   "source": [
    "# czwarta funkcja do czyszczenia tytułów w celu zebrania etykiet do danych\n",
    "\n",
    "def find_words_with_more_than_four_characters2(subject: str) -> list:\n",
    "  words = []\n",
    "  new_subject = ''\n",
    "  for l in subject:\n",
    "    l = re.sub('[^A-Za-zĄĆĘŁŃÓŚŹŻąćęłńóśźż]+', ' ', l)\n",
    "    new_subject += l\n",
    "  words_temp = new_subject.split(' ')\n",
    "  for i in words_temp:\n",
    "    if len(i) >= 4:\n",
    "      words.append(i)\n",
    "\n",
    "  return words"
   ]
  },
  {
   "cell_type": "code",
   "execution_count": 14,
   "metadata": {},
   "outputs": [],
   "source": [
    "# Funkcja do zliczania elementów w liscie, zwraca listę unikatowych wartości i listę unikatowych wartości z informacją ile razy występowały\n",
    "\n",
    "from collections import Counter\n",
    "\n",
    "def count_occurrences(input_list):\n",
    "    unique_values = set(input_list)\n",
    "    occurrence_count = Counter(input_list)\n",
    "\n",
    "    return list(unique_values), occurrence_count"
   ]
  },
  {
   "cell_type": "code",
   "execution_count": 15,
   "metadata": {},
   "outputs": [],
   "source": [
    "# Funkcja sprawdza czy peirwszy elemnt tupli jest kluczem do słownika, jeśli tak to dodaje 0 elemnt do listy i zwraca set, który zawiera unikatowe wartości dla danego klucza\n",
    "\n",
    "def find_all_values_to_dictonary (key: str ,list_of_tuple: list) -> set:\n",
    "    di = []\n",
    "    for i in list_of_tuple:\n",
    "        if i[1] == key:\n",
    "            di.append(i[0])\n",
    "    return set(di)\n"
   ]
  },
  {
   "cell_type": "code",
   "execution_count": 16,
   "metadata": {},
   "outputs": [],
   "source": [
    "# Zmiana tytułów na lowercase\n",
    "\n",
    "all_amz_go['Subject'] = [str(row).lower() for row in all_amz_go['Subject']]\n",
    "all_cus_go['Subject'] = [str(row).lower() for row in all_cus_go['Subject']]"
   ]
  },
  {
   "cell_type": "code",
   "execution_count": 17,
   "metadata": {},
   "outputs": [],
   "source": [
    "# przekształcenie stringów w komórkach kolumny tags na listę, dzielone po przecinku \n",
    "\n",
    "all_amz_go['Tags'] = [split_tags(row, ',')for row in all_amz_go['Tags']]\n",
    "all_cus_go['Tags'] = [split_tags(row, ',')for row in all_cus_go['Tags']]"
   ]
  },
  {
   "cell_type": "code",
   "execution_count": 18,
   "metadata": {},
   "outputs": [],
   "source": [
    "# utworzenie kolumny, w której jest napisane jakiego rynku dotyczy wiadomość, na podstawie kolumny tags\n",
    "\n",
    "all_amz_go['rynek'] = [get_market(row) for row in all_amz_go['Tags']]\n",
    "all_cus_go['rynek'] = [get_market(row) for row in all_cus_go['Tags']]"
   ]
  },
  {
   "cell_type": "code",
   "execution_count": 19,
   "metadata": {},
   "outputs": [],
   "source": [
    "# usunięcie wierszy, które w kolumnie 'rynek' nie maję 'rynek_de'\n",
    "\n",
    "# all_amz_go.drop(all_amz_go[all_amz_go['rynek'] != 'rynek_de'].index,  inplace=True)\n",
    "# all_cus_go.drop(all_cus_go[all_cus_go['rynek'] != 'rynek_de'].index,  inplace=True)"
   ]
  },
  {
   "cell_type": "code",
   "execution_count": 20,
   "metadata": {},
   "outputs": [],
   "source": [
    "# wyciągnięcie numeru zamówień z kolumn subject i description\n",
    "\n",
    "all_amz_go['Order_number'] = [order_number(row1, row2) for row1, row2 in zip(all_amz_go['Subject'], all_amz_go['Description'])]\n",
    "all_cus_go['Order_number'] = [order_number(row1, row2) for row1, row2 in zip(all_cus_go['Subject'], all_cus_go['Description'])]"
   ]
  },
  {
   "cell_type": "code",
   "execution_count": 21,
   "metadata": {},
   "outputs": [],
   "source": [
    "# resetowanie indexów\n",
    "\n",
    "all_amz_go.reset_index(drop=True, inplace=True)\n",
    "all_cus_go.reset_index(drop=True, inplace=True)"
   ]
  },
  {
   "cell_type": "code",
   "execution_count": 22,
   "metadata": {},
   "outputs": [],
   "source": [
    "# zmiana obiektów z kolummny 'Created Time' na daty\n",
    "\n",
    "from datetime import datetime\n",
    "\n",
    "format_date = \"%d %m %Y %H:%M\"\n",
    "\n",
    "all_amz_go['Created Time'] = [datetime.strptime(row, format_date) for row in all_amz_go['Created Time']] \n",
    "all_cus_go['Created Time'] = [datetime.strptime(row, format_date) for row in all_cus_go['Created Time']] "
   ]
  },
  {
   "cell_type": "code",
   "execution_count": 23,
   "metadata": {},
   "outputs": [],
   "source": [
    "# wykorzystanie funkcji do splitowania aby utworzyć kolumnę \n",
    "\n",
    "all_amz_go['title_list'] = [split_tags(row, ' ') for row in all_amz_go['Subject']]\n",
    "all_cus_go['title_list'] = [split_tags(row, ' ') for row in all_cus_go['Subject']]"
   ]
  },
  {
   "cell_type": "code",
   "execution_count": 24,
   "metadata": {},
   "outputs": [
    {
     "data": {
      "text/plain": [
       "['[de]', '302-0014409-7188317', 'niekompletne']"
      ]
     },
     "execution_count": 24,
     "metadata": {},
     "output_type": "execute_result"
    }
   ],
   "source": [
    "# sprawdzenie czy funcja split_tags zadzaiała poprawnie\n",
    "\n",
    "all_cus_go['title_list'][1]"
   ]
  },
  {
   "cell_type": "markdown",
   "metadata": {},
   "source": [
    "W tym momencie postanowieł sprawdzić, czy zamówienia, z jednej i drugiej tabeli się pokrywają w jakimś najmniejszym stopniu"
   ]
  },
  {
   "cell_type": "code",
   "execution_count": 25,
   "metadata": {},
   "outputs": [],
   "source": [
    "# za pomocą wcześniej stworzonej funkcji tworzę listę unikatowych numerów ze wszystkich wierszy jednego data set\n",
    "\n",
    "all_amz_go_list = []\n",
    "[all_order(row, all_amz_go_list) for row in all_amz_go['Order_number']]\n",
    "all_amz_go_list = [item for sublist in all_amz_go_list for item in sublist]"
   ]
  },
  {
   "cell_type": "code",
   "execution_count": 26,
   "metadata": {},
   "outputs": [],
   "source": [
    "# za pomocą wcześniej stworzonej funkcji tworzę listę unikatowych numerów ze wszystkich wierszy drugiego data set\n",
    "\n",
    "all_cus_go_list = []\n",
    "[all_order(row, all_cus_go_list) for row in all_cus_go['Order_number']]\n",
    "all_cus_go_list = [item for sublist in all_cus_go_list for item in sublist]"
   ]
  },
  {
   "cell_type": "code",
   "execution_count": 27,
   "metadata": {},
   "outputs": [],
   "source": [
    "# zamieniam stworzyonych list na set\n",
    "\n",
    "mcg_order_set = set(all_amz_go_list)\n",
    "mag_rynek_de_order_set = set(all_cus_go_list)"
   ]
  },
  {
   "cell_type": "code",
   "execution_count": 28,
   "metadata": {},
   "outputs": [],
   "source": [
    "# dodanie kontrolnie jednej takiej samej wartości do obu setów\n",
    "\n",
    "mcg_order_set.add('123')\n",
    "mag_rynek_de_order_set.add('123')"
   ]
  },
  {
   "cell_type": "code",
   "execution_count": 29,
   "metadata": {},
   "outputs": [],
   "source": [
    "# porównanie dwóch\n",
    "\n",
    "y = mcg_order_set.intersection(mag_rynek_de_order_set)"
   ]
  },
  {
   "cell_type": "code",
   "execution_count": 30,
   "metadata": {},
   "outputs": [
    {
     "data": {
      "text/plain": [
       "11037"
      ]
     },
     "execution_count": 30,
     "metadata": {},
     "output_type": "execute_result"
    }
   ],
   "source": [
    "# Wyświetlenie ile mamy takich samych numerów zamówień w jednym i drugim secie\n",
    "\n",
    "len(y)"
   ]
  },
  {
   "cell_type": "markdown",
   "metadata": {},
   "source": [
    "Powrót do preprocesingu danych"
   ]
  },
  {
   "cell_type": "code",
   "execution_count": 31,
   "metadata": {},
   "outputs": [
    {
     "name": "stdout",
     "output_type": "stream",
     "text": [
      "['zapytanie', 'amandine', 'perez']\n"
     ]
    }
   ],
   "source": [
    "# weryfickaja działania funkcji do czyszczenia tytułów maili\n",
    "\n",
    "print(find_words_with_more_than_four_characters2(all_cus_go['Subject'][5552]))"
   ]
  },
  {
   "cell_type": "code",
   "execution_count": 32,
   "metadata": {},
   "outputs": [],
   "source": [
    "# utworzenie nowej kolumny label i dodanie do niej słów, które nadają się na labelki\n",
    "\n",
    "all_cus_go['label'] = [find_words_with_more_than_four_characters2(row) for row in all_cus_go['Subject']]"
   ]
  },
  {
   "cell_type": "code",
   "execution_count": 33,
   "metadata": {},
   "outputs": [
    {
     "data": {
      "text/plain": [
       "0                    [pytanie]\n",
       "1               [niekompletne]\n",
       "2                 [reklamacja]\n",
       "3                  [zapytanie]\n",
       "4                      [zwrot]\n",
       "5          [zwrot, reklamacja]\n",
       "6                 [reklamacja]\n",
       "7                 [reklamacja]\n",
       "8    [zapytanie, asin, bfwdtm]\n",
       "9                    [pytanie]\n",
       "Name: label, dtype: object"
      ]
     },
     "execution_count": 33,
     "metadata": {},
     "output_type": "execute_result"
    }
   ],
   "source": [
    "# sprawdzenie jak wygląda labels dla 10 przykładowych wierszy\n",
    "\n",
    "all_cus_go['label'].head(10)"
   ]
  },
  {
   "cell_type": "code",
   "execution_count": 34,
   "metadata": {},
   "outputs": [],
   "source": [
    "# Stworzenie listy ze wszystkimi wartościami z kolumny labels\n",
    "\n",
    "label_list = []\n",
    "[all_order(row, label_list) for row in all_cus_go['label']]\n",
    "label_list = [item for sublist in label_list for item in sublist]"
   ]
  },
  {
   "cell_type": "code",
   "execution_count": 35,
   "metadata": {},
   "outputs": [],
   "source": [
    "# Stworzenie dwóch list na podstawie listy wartości z kolumny['label'], jedna lista to unikatowe wartości, druga lista unikatowe wartości z informacją ile dana wartość występowała\n",
    "\n",
    "uniq_vales, uniq_values_count = count_occurrences(label_list)"
   ]
  },
  {
   "cell_type": "code",
   "execution_count": 36,
   "metadata": {},
   "outputs": [
    {
     "name": "stdout",
     "output_type": "stream",
     "text": [
      "yes\n"
     ]
    }
   ],
   "source": [
    "if 'anulownanie' in uniq_vales:\n",
    "    print('yes')"
   ]
  },
  {
   "cell_type": "code",
   "execution_count": 37,
   "metadata": {},
   "outputs": [],
   "source": [
    "# Stworzenie obiektu spacy z polskim słownikiem\n",
    "\n",
    "nlp = spacy.load(\"pl_core_news_lg\")"
   ]
  },
  {
   "cell_type": "code",
   "execution_count": 38,
   "metadata": {},
   "outputs": [],
   "source": [
    "# Zmiana unikatowej listy na string\n",
    "\n",
    "uniq_vales_sentence = ' '.join(uniq_vales)"
   ]
  },
  {
   "cell_type": "code",
   "execution_count": 39,
   "metadata": {},
   "outputs": [
    {
     "name": "stdout",
     "output_type": "stream",
     "text": [
      "yes\n"
     ]
    }
   ],
   "source": [
    "if 'anulownanie' in uniq_vales_sentence:\n",
    "    print('yes')"
   ]
  },
  {
   "cell_type": "code",
   "execution_count": 40,
   "metadata": {},
   "outputs": [],
   "source": [
    "# tokenizacja stringu unikatowych wartości z kolumny tags\n",
    "\n",
    "doc = nlp(uniq_vales_sentence)"
   ]
  },
  {
   "cell_type": "code",
   "execution_count": 41,
   "metadata": {},
   "outputs": [],
   "source": [
    "# lemantyzacja wcześniej stworzonych tokenów. Stworzenie listy i listy tupli. Lista tupli zawierające słowo i jej podstawę słowotwórczą, sama lista zawiera wszystkie podstwy słowotwórcze \n",
    "\n",
    "all_lem = []\n",
    "all_words = []\n",
    "for token in doc:\n",
    "    all_words.append((token.text, token.lemma_))\n",
    "    all_lem.append(token.lemma_)"
   ]
  },
  {
   "cell_type": "code",
   "execution_count": 42,
   "metadata": {},
   "outputs": [],
   "source": [
    "# import pickle\n",
    "# with open('all_lem.pkl', 'wb') as file:\n",
    "#     pickle.dump(all_lem, file)"
   ]
  },
  {
   "cell_type": "code",
   "execution_count": 43,
   "metadata": {},
   "outputs": [],
   "source": [
    "all_lem_df = pd.DataFrame(all_lem)\n",
    "all_words_df = pd.DataFrame(all_words)\n",
    "all_lem_df.to_csv('all_lem_df7.csv', sep=',', encoding='cp1250',index=False)\n",
    "all_words_df.to_csv('all_words_df6.csv', sep=',', encoding='cp1250',index=False)"
   ]
  },
  {
   "cell_type": "code",
   "execution_count": 44,
   "metadata": {},
   "outputs": [],
   "source": [
    "# Stworzenie słownika gdzie klucz to podstawa słowotwórcza a values jest listą słów dla tej podstawy występująca w kolumnie tags\n",
    "\n",
    "lem_dict_0 = {}\n",
    "for i in set(all_lem):\n",
    "    lem_dict_0[i] = find_all_values_to_dictonary(i,all_words)"
   ]
  },
  {
   "cell_type": "code",
   "execution_count": 45,
   "metadata": {},
   "outputs": [],
   "source": [
    "# stworzenie słownika ze specjalnego obieku counter\n",
    "\n",
    "uniq_values_count_dict = dict(uniq_values_count)"
   ]
  },
  {
   "cell_type": "code",
   "execution_count": 46,
   "metadata": {},
   "outputs": [],
   "source": [
    "# Stworzenie słownika, gdzie klucz to podstawa słwowtwórcza, a values to suma wartości występowania słów zawiązanych z tą lemą\n",
    "\n",
    "number_of_occurence = {}\n",
    "for i in lem_dict_0:\n",
    "    number_of_occurence_value = []\n",
    "    for j in lem_dict_0[i]:\n",
    "        number_of_occurence_value.append(uniq_values_count_dict[j])\n",
    "    number_of_occurence[i] = sum(number_of_occurence_value)"
   ]
  },
  {
   "cell_type": "code",
   "execution_count": 47,
   "metadata": {},
   "outputs": [],
   "source": [
    "# Posortowanie słownika zawierającego podstawę słowotwórczą oraz ilość wystąpnień słów z nim powiązanych\n",
    "\n",
    "number_of_occurence_sorted = sorted(number_of_occurence.items(), key=lambda x:x[1], reverse=True)"
   ]
  },
  {
   "cell_type": "code",
   "execution_count": 48,
   "metadata": {},
   "outputs": [],
   "source": [
    "df_number_of_occurence_sorted = pd.DataFrame(number_of_occurence_sorted, columns=['lema', 'ilość wystapień'])"
   ]
  },
  {
   "cell_type": "code",
   "execution_count": 49,
   "metadata": {},
   "outputs": [
    {
     "data": {
      "text/html": [
       "<div>\n",
       "<style scoped>\n",
       "    .dataframe tbody tr th:only-of-type {\n",
       "        vertical-align: middle;\n",
       "    }\n",
       "\n",
       "    .dataframe tbody tr th {\n",
       "        vertical-align: top;\n",
       "    }\n",
       "\n",
       "    .dataframe thead th {\n",
       "        text-align: right;\n",
       "    }\n",
       "</style>\n",
       "<table border=\"1\" class=\"dataframe\">\n",
       "  <thead>\n",
       "    <tr style=\"text-align: right;\">\n",
       "      <th></th>\n",
       "      <th>lema</th>\n",
       "      <th>ilość wystapień</th>\n",
       "    </tr>\n",
       "  </thead>\n",
       "  <tbody>\n",
       "    <tr>\n",
       "      <th>0</th>\n",
       "      <td>zwrot</td>\n",
       "      <td>6127</td>\n",
       "    </tr>\n",
       "    <tr>\n",
       "      <th>1</th>\n",
       "      <td>reklamacja</td>\n",
       "      <td>4539</td>\n",
       "    </tr>\n",
       "    <tr>\n",
       "      <th>2</th>\n",
       "      <td>dostawa</td>\n",
       "      <td>3243</td>\n",
       "    </tr>\n",
       "    <tr>\n",
       "      <th>3</th>\n",
       "      <td>opóźnienie</td>\n",
       "      <td>2951</td>\n",
       "    </tr>\n",
       "    <tr>\n",
       "      <th>4</th>\n",
       "      <td>niedostarczić</td>\n",
       "      <td>2821</td>\n",
       "    </tr>\n",
       "  </tbody>\n",
       "</table>\n",
       "</div>"
      ],
      "text/plain": [
       "            lema  ilość wystapień\n",
       "0          zwrot             6127\n",
       "1     reklamacja             4539\n",
       "2        dostawa             3243\n",
       "3     opóźnienie             2951\n",
       "4  niedostarczić             2821"
      ]
     },
     "execution_count": 49,
     "metadata": {},
     "output_type": "execute_result"
    }
   ],
   "source": [
    "df_number_of_occurence_sorted.head(5)"
   ]
  },
  {
   "cell_type": "code",
   "execution_count": 50,
   "metadata": {},
   "outputs": [],
   "source": [
    "df_number_of_occurence_sorted.to_csv('number_of_occurence_sorted.csv', sep=',', encoding='cp1250',index=False)"
   ]
  },
  {
   "cell_type": "code",
   "execution_count": 51,
   "metadata": {},
   "outputs": [
    {
     "data": {
      "text/html": [
       "<div>\n",
       "<style scoped>\n",
       "    .dataframe tbody tr th:only-of-type {\n",
       "        vertical-align: middle;\n",
       "    }\n",
       "\n",
       "    .dataframe tbody tr th {\n",
       "        vertical-align: top;\n",
       "    }\n",
       "\n",
       "    .dataframe thead th {\n",
       "        text-align: right;\n",
       "    }\n",
       "</style>\n",
       "<table border=\"1\" class=\"dataframe\">\n",
       "  <thead>\n",
       "    <tr style=\"text-align: right;\">\n",
       "      <th></th>\n",
       "      <th>0</th>\n",
       "      <th>1</th>\n",
       "      <th>2</th>\n",
       "      <th>3</th>\n",
       "      <th>4</th>\n",
       "      <th>5</th>\n",
       "      <th>6</th>\n",
       "      <th>7</th>\n",
       "      <th>8</th>\n",
       "      <th>9</th>\n",
       "      <th>...</th>\n",
       "      <th>44</th>\n",
       "      <th>45</th>\n",
       "      <th>46</th>\n",
       "      <th>47</th>\n",
       "      <th>48</th>\n",
       "      <th>49</th>\n",
       "      <th>50</th>\n",
       "      <th>51</th>\n",
       "      <th>52</th>\n",
       "      <th>53</th>\n",
       "    </tr>\n",
       "  </thead>\n",
       "  <tbody>\n",
       "    <tr>\n",
       "      <th>0</th>\n",
       "      <td>anulacja</td>\n",
       "      <td>anulować</td>\n",
       "      <td>anulacja</td>\n",
       "      <td>anulowac</td>\n",
       "      <td>anulacj</td>\n",
       "      <td>anulownie</td>\n",
       "      <td>anulownaie</td>\n",
       "      <td>nieanulowanie</td>\n",
       "      <td>anulaj</td>\n",
       "      <td>anuloewanie</td>\n",
       "      <td>...</td>\n",
       "      <td>NaN</td>\n",
       "      <td>NaN</td>\n",
       "      <td>NaN</td>\n",
       "      <td>NaN</td>\n",
       "      <td>NaN</td>\n",
       "      <td>NaN</td>\n",
       "      <td>NaN</td>\n",
       "      <td>NaN</td>\n",
       "      <td>NaN</td>\n",
       "      <td>NaN</td>\n",
       "    </tr>\n",
       "    <tr>\n",
       "      <th>1</th>\n",
       "      <td>reklamacja</td>\n",
       "      <td>reklamacja</td>\n",
       "      <td>reklamation</td>\n",
       "      <td>reklamcja</td>\n",
       "      <td>reklaamcja</td>\n",
       "      <td>reklamajci</td>\n",
       "      <td>reklmacja</td>\n",
       "      <td>reklacja</td>\n",
       "      <td>reklama</td>\n",
       "      <td>reklamationa</td>\n",
       "      <td>...</td>\n",
       "      <td>NaN</td>\n",
       "      <td>NaN</td>\n",
       "      <td>NaN</td>\n",
       "      <td>NaN</td>\n",
       "      <td>NaN</td>\n",
       "      <td>NaN</td>\n",
       "      <td>NaN</td>\n",
       "      <td>NaN</td>\n",
       "      <td>NaN</td>\n",
       "      <td>NaN</td>\n",
       "    </tr>\n",
       "    <tr>\n",
       "      <th>2</th>\n",
       "      <td>wysyłka</td>\n",
       "      <td>wysyłce</td>\n",
       "      <td>wysyłka</td>\n",
       "      <td>wysyłke</td>\n",
       "      <td>wysyp</td>\n",
       "      <td>wysylce</td>\n",
       "      <td>wysyłkąć</td>\n",
       "      <td>wysyka</td>\n",
       "      <td>NaN</td>\n",
       "      <td>NaN</td>\n",
       "      <td>...</td>\n",
       "      <td>NaN</td>\n",
       "      <td>NaN</td>\n",
       "      <td>NaN</td>\n",
       "      <td>NaN</td>\n",
       "      <td>NaN</td>\n",
       "      <td>NaN</td>\n",
       "      <td>NaN</td>\n",
       "      <td>NaN</td>\n",
       "      <td>NaN</td>\n",
       "      <td>NaN</td>\n",
       "    </tr>\n",
       "    <tr>\n",
       "      <th>3</th>\n",
       "      <td>refund</td>\n",
       "      <td>refund</td>\n",
       "      <td>refundacja</td>\n",
       "      <td>refunda</td>\n",
       "      <td>refunf</td>\n",
       "      <td>refung</td>\n",
       "      <td>NaN</td>\n",
       "      <td>NaN</td>\n",
       "      <td>NaN</td>\n",
       "      <td>NaN</td>\n",
       "      <td>...</td>\n",
       "      <td>NaN</td>\n",
       "      <td>NaN</td>\n",
       "      <td>NaN</td>\n",
       "      <td>NaN</td>\n",
       "      <td>NaN</td>\n",
       "      <td>NaN</td>\n",
       "      <td>NaN</td>\n",
       "      <td>NaN</td>\n",
       "      <td>NaN</td>\n",
       "      <td>NaN</td>\n",
       "    </tr>\n",
       "    <tr>\n",
       "      <th>4</th>\n",
       "      <td>przesyłka</td>\n",
       "      <td>przesyłka</td>\n",
       "      <td>przesylka</td>\n",
       "      <td>przesyłewka</td>\n",
       "      <td>przesyłkami</td>\n",
       "      <td>NaN</td>\n",
       "      <td>NaN</td>\n",
       "      <td>NaN</td>\n",
       "      <td>NaN</td>\n",
       "      <td>NaN</td>\n",
       "      <td>...</td>\n",
       "      <td>NaN</td>\n",
       "      <td>NaN</td>\n",
       "      <td>NaN</td>\n",
       "      <td>NaN</td>\n",
       "      <td>NaN</td>\n",
       "      <td>NaN</td>\n",
       "      <td>NaN</td>\n",
       "      <td>NaN</td>\n",
       "      <td>NaN</td>\n",
       "      <td>NaN</td>\n",
       "    </tr>\n",
       "  </tbody>\n",
       "</table>\n",
       "<p>5 rows × 54 columns</p>\n",
       "</div>"
      ],
      "text/plain": [
       "           0           1            2            3            4           5    \n",
       "0    anulacja    anulować     anulacja     anulowac      anulacj   anulownie  \\\n",
       "1  reklamacja  reklamacja  reklamation    reklamcja   reklaamcja  reklamajci   \n",
       "2     wysyłka     wysyłce      wysyłka      wysyłke        wysyp     wysylce   \n",
       "3      refund      refund   refundacja      refunda       refunf      refung   \n",
       "4   przesyłka   przesyłka    przesylka  przesyłewka  przesyłkami         NaN   \n",
       "\n",
       "           6              7        8             9   ...   44   45   46   47   \n",
       "0  anulownaie  nieanulowanie   anulaj   anuloewanie  ...  NaN  NaN  NaN  NaN  \\\n",
       "1   reklmacja       reklacja  reklama  reklamationa  ...  NaN  NaN  NaN  NaN   \n",
       "2    wysyłkąć         wysyka      NaN           NaN  ...  NaN  NaN  NaN  NaN   \n",
       "3         NaN            NaN      NaN           NaN  ...  NaN  NaN  NaN  NaN   \n",
       "4         NaN            NaN      NaN           NaN  ...  NaN  NaN  NaN  NaN   \n",
       "\n",
       "    48   49   50   51   52   53  \n",
       "0  NaN  NaN  NaN  NaN  NaN  NaN  \n",
       "1  NaN  NaN  NaN  NaN  NaN  NaN  \n",
       "2  NaN  NaN  NaN  NaN  NaN  NaN  \n",
       "3  NaN  NaN  NaN  NaN  NaN  NaN  \n",
       "4  NaN  NaN  NaN  NaN  NaN  NaN  \n",
       "\n",
       "[5 rows x 54 columns]"
      ]
     },
     "execution_count": 51,
     "metadata": {},
     "output_type": "execute_result"
    }
   ],
   "source": [
    "labels_df = pd.read_csv('labels2.csv', sep=';', header=None)\n",
    "labels_df.head(5)"
   ]
  },
  {
   "cell_type": "code",
   "execution_count": 116,
   "metadata": {},
   "outputs": [
    {
     "data": {
      "text/plain": [
       "{'wysyka'}"
      ]
     },
     "execution_count": 116,
     "metadata": {},
     "output_type": "execute_result"
    }
   ],
   "source": [
    "lem_dict_0['wysyka']"
   ]
  },
  {
   "cell_type": "code",
   "execution_count": 52,
   "metadata": {},
   "outputs": [],
   "source": [
    "labels_df = labels_df.T\n",
    "labels_df.columns = labels_df.iloc[0]\n",
    "label_name = labels_df.iloc[0]\n",
    "labels_df = labels_df[1:]"
   ]
  },
  {
   "cell_type": "code",
   "execution_count": 53,
   "metadata": {},
   "outputs": [
    {
     "data": {
      "text/html": [
       "<div>\n",
       "<style scoped>\n",
       "    .dataframe tbody tr th:only-of-type {\n",
       "        vertical-align: middle;\n",
       "    }\n",
       "\n",
       "    .dataframe tbody tr th {\n",
       "        vertical-align: top;\n",
       "    }\n",
       "\n",
       "    .dataframe thead th {\n",
       "        text-align: right;\n",
       "    }\n",
       "</style>\n",
       "<table border=\"1\" class=\"dataframe\">\n",
       "  <thead>\n",
       "    <tr style=\"text-align: right;\">\n",
       "      <th></th>\n",
       "      <th>anulacja</th>\n",
       "      <th>reklamacja</th>\n",
       "      <th>wysyłka</th>\n",
       "      <th>refund</th>\n",
       "      <th>przesyłka</th>\n",
       "      <th>dostawa</th>\n",
       "      <th>opóźnienie</th>\n",
       "      <th>uszkodzony</th>\n",
       "      <th>adres</th>\n",
       "      <th>ponowna</th>\n",
       "      <th>paczka</th>\n",
       "      <th>zapytanie</th>\n",
       "      <th>zwrot</th>\n",
       "      <th>brak</th>\n",
       "      <th>niekompletne</th>\n",
       "      <th>faktura</th>\n",
       "      <th>inne</th>\n",
       "    </tr>\n",
       "  </thead>\n",
       "  <tbody>\n",
       "    <tr>\n",
       "      <th>1</th>\n",
       "      <td>anulować</td>\n",
       "      <td>reklamacja</td>\n",
       "      <td>wysyłce</td>\n",
       "      <td>refund</td>\n",
       "      <td>przesyłka</td>\n",
       "      <td>dostawa</td>\n",
       "      <td>opoznienie</td>\n",
       "      <td>uszkodzić</td>\n",
       "      <td>adres</td>\n",
       "      <td>ponowny</td>\n",
       "      <td>paczka</td>\n",
       "      <td>zapytanie</td>\n",
       "      <td>zwrot</td>\n",
       "      <td>brak</td>\n",
       "      <td>niekompletny</td>\n",
       "      <td>faktura</td>\n",
       "      <td>inny</td>\n",
       "    </tr>\n",
       "    <tr>\n",
       "      <th>2</th>\n",
       "      <td>anulacja</td>\n",
       "      <td>reklamation</td>\n",
       "      <td>wysyłka</td>\n",
       "      <td>refundacja</td>\n",
       "      <td>przesylka</td>\n",
       "      <td>niedostarczona</td>\n",
       "      <td>opoznić</td>\n",
       "      <td>uszkodzeć</td>\n",
       "      <td>adresse</td>\n",
       "      <td>NaN</td>\n",
       "      <td>paczkomacie</td>\n",
       "      <td>pytanie</td>\n",
       "      <td>zwrotny</td>\n",
       "      <td>brakować</td>\n",
       "      <td>niekomletny</td>\n",
       "      <td>fakura</td>\n",
       "      <td>NaN</td>\n",
       "    </tr>\n",
       "    <tr>\n",
       "      <th>3</th>\n",
       "      <td>anulowac</td>\n",
       "      <td>reklamcja</td>\n",
       "      <td>wysyłke</td>\n",
       "      <td>refunda</td>\n",
       "      <td>przesyłewka</td>\n",
       "      <td>niedostarczć</td>\n",
       "      <td>opoznieć</td>\n",
       "      <td>uszkodzenie</td>\n",
       "      <td>adresowy</td>\n",
       "      <td>NaN</td>\n",
       "      <td>paczkomat</td>\n",
       "      <td>zapytanienie</td>\n",
       "      <td>zwrtot</td>\n",
       "      <td>wybrakować</td>\n",
       "      <td>niekopletny</td>\n",
       "      <td>NaN</td>\n",
       "      <td>NaN</td>\n",
       "    </tr>\n",
       "    <tr>\n",
       "      <th>4</th>\n",
       "      <td>anulacj</td>\n",
       "      <td>reklaamcja</td>\n",
       "      <td>wysyp</td>\n",
       "      <td>refunf</td>\n",
       "      <td>przesyłkami</td>\n",
       "      <td>dostarczyć</td>\n",
       "      <td>opóźniić</td>\n",
       "      <td>uszkodozny</td>\n",
       "      <td>adresskl</td>\n",
       "      <td>NaN</td>\n",
       "      <td>paczkmać</td>\n",
       "      <td>zapytamie</td>\n",
       "      <td>zwrto</td>\n",
       "      <td>brakuć</td>\n",
       "      <td>niekomplet</td>\n",
       "      <td>NaN</td>\n",
       "      <td>NaN</td>\n",
       "    </tr>\n",
       "    <tr>\n",
       "      <th>5</th>\n",
       "      <td>anulownie</td>\n",
       "      <td>reklamajci</td>\n",
       "      <td>wysylce</td>\n",
       "      <td>refung</td>\n",
       "      <td>NaN</td>\n",
       "      <td>niedostarczono</td>\n",
       "      <td>opóźnienie</td>\n",
       "      <td>uszkopdzeć</td>\n",
       "      <td>zaadresować</td>\n",
       "      <td>NaN</td>\n",
       "      <td>paczk</td>\n",
       "      <td>zpytać</td>\n",
       "      <td>zwrócić</td>\n",
       "      <td>NaN</td>\n",
       "      <td>niekoempletne</td>\n",
       "      <td>NaN</td>\n",
       "      <td>NaN</td>\n",
       "    </tr>\n",
       "  </tbody>\n",
       "</table>\n",
       "</div>"
      ],
      "text/plain": [
       "0   anulacja   reklamacja  wysyłka      refund    przesyłka         dostawa   \n",
       "1   anulować   reklamacja  wysyłce      refund    przesyłka         dostawa  \\\n",
       "2   anulacja  reklamation  wysyłka  refundacja    przesylka  niedostarczona   \n",
       "3   anulowac    reklamcja  wysyłke     refunda  przesyłewka    niedostarczć   \n",
       "4    anulacj   reklaamcja    wysyp      refunf  przesyłkami      dostarczyć   \n",
       "5  anulownie   reklamajci  wysylce      refung          NaN  niedostarczono   \n",
       "\n",
       "0  opóźnienie   uszkodzony        adres  ponowna       paczka     zapytanie   \n",
       "1  opoznienie    uszkodzić        adres  ponowny       paczka     zapytanie  \\\n",
       "2     opoznić    uszkodzeć      adresse      NaN  paczkomacie       pytanie   \n",
       "3    opoznieć  uszkodzenie     adresowy      NaN    paczkomat  zapytanienie   \n",
       "4    opóźniić   uszkodozny     adresskl      NaN     paczkmać     zapytamie   \n",
       "5  opóźnienie   uszkopdzeć  zaadresować      NaN        paczk        zpytać   \n",
       "\n",
       "0    zwrot        brak   niekompletne  faktura  inne  \n",
       "1    zwrot        brak   niekompletny  faktura  inny  \n",
       "2  zwrotny    brakować    niekomletny   fakura   NaN  \n",
       "3   zwrtot  wybrakować    niekopletny      NaN   NaN  \n",
       "4    zwrto      brakuć     niekomplet      NaN   NaN  \n",
       "5  zwrócić         NaN  niekoempletne      NaN   NaN  "
      ]
     },
     "execution_count": 53,
     "metadata": {},
     "output_type": "execute_result"
    }
   ],
   "source": [
    "labels_df.head()"
   ]
  },
  {
   "cell_type": "code",
   "execution_count": 54,
   "metadata": {},
   "outputs": [],
   "source": [
    "lem_dict_1 = labels_df.to_dict(orient='list')"
   ]
  },
  {
   "cell_type": "code",
   "execution_count": 136,
   "metadata": {},
   "outputs": [],
   "source": [
    "from itertools import chain\n",
    "\n",
    "def get_all_values (dict1: dict, dict0: dict):\n",
    "    final_dict = {}\n",
    "    key_lvl1 = []\n",
    "    key_lvl1.append(list(dict1.keys()))\n",
    "    key_lvl1 = list(chain(*key_lvl1))\n",
    "    # print(key_lvl1)\n",
    "    not_working_keys = []\n",
    "    for i in key_lvl1:\n",
    "        temp_vals = []\n",
    "        temp_keys = dict1[i]\n",
    "        temp_keys = [x for x in temp_keys if x is not np.nan]\n",
    "        print(temp_keys)\n",
    "        for j in temp_keys:\n",
    "            try:\n",
    "                # print(j)\n",
    "                temp_vals.append(list(dict0[j]))\n",
    "                # temp_vals.append(list(j))\n",
    "            except Exception:\n",
    "                    not_working_keys.append(j)\n",
    "        temp_vals = set(item for sublist in temp_vals for item in sublist)\n",
    "        final_dict[i] = temp_vals\n",
    "    return not_working_keys, final_dict"
   ]
  },
  {
   "cell_type": "code",
   "execution_count": 137,
   "metadata": {},
   "outputs": [
    {
     "name": "stdout",
     "output_type": "stream",
     "text": [
      "['anulować', 'anulacja', 'anulowac', 'anulacj', 'anulownie', 'anulownaie', 'nieanulowanie', 'anulaj', 'anuloewanie', 'anulownanie', 'anuloanie', 'nieanulować', 'anulwoanie']\n",
      "['reklamacja', 'reklamation', 'reklamcja', 'reklaamcja', 'reklamajci', 'reklmacja', 'reklacja', 'reklama', 'reklamationa', 'reklamacvja', 'reklamac', 'reklamancja', 'reklmamacja', 'reklamowanie', 'reklamaja', 'reklaamacja', 'reklamcaja']\n",
      "['wysyłce', 'wysyłka', 'wysyłke', 'wysyp', 'wysylce', 'wysyłkąć', 'wysyka']\n",
      "['refund', 'refundacja', 'refunda', 'refunf', 'refung']\n",
      "['przesyłka', 'przesylka', 'przesyłewka', 'przesyłkami']\n",
      "['dostawa', 'niedostarczona', 'niedostarczć', 'dostarczyć', 'niedostarczono', 'niedostraczić', 'niedostraczone', 'dostarczenie', 'dostarczeć', 'niedostaczone', 'dostarczć', 'niedostraczony', 'niedostaczona', 'niedostarcone', 'niedostarczny', 'dostawca', 'niedostaraczone', 'nieodostraczyć', 'niiedostarczona', 'niedostarczine', 'niedostarcozny', 'niedostaraczona', 'niedostarzona', 'niedostrczone', 'nedostarczona', 'niesdostarczć', 'niedostrczona', 'ninedostarczony', 'dostwa', 'dostaroczić', 'niedostyarczć', 'dostrczić', 'niedostarczenie', 'niedostarczonea', 'niedostarczzona', 'niedostaeczić', 'niedostarczoana', 'niedostacozne', 'dostaczić', 'dostway', 'nidostarczone', 'niedostarczpme', 'dostraczone', 'niodostarczony', 'dostrarczć', 'niedostarzone', 'nedostarczone', 'dostarcoyno', 'dostawe', 'niedostarczoone', 'nniedostarczon', 'dostawty', 'niedostaroczyć']\n",
      "['opoznienie', 'opoznić', 'opoznieć', 'opóźniić', 'opóźnienie', 'opóźnić', 'opóźnieniu', 'opóżniona', 'opóxnienie', 'opóźnienienąć', 'opóżnienie', 'opóźenienie']\n",
      "['uszkodzić', 'uszkodzeć', 'uszkodzenie', 'uszkodozny', 'uszkopdzeć', 'uszkodznąć', 'uszkodzaić', 'uszkodzonie', 'uszkodczenie', 'uszkodzdenie']\n",
      "['adres', 'adresse', 'adresowy', 'adresskl', 'zaadresować', 'adrres', 'adresie', 'adress']\n",
      "['ponowny']\n",
      "['paczka', 'paczkomacie', 'paczkomat', 'paczkmać', 'paczk']\n",
      "['zapytanie', 'pytanie', 'zapytanienie', 'zapytamie', 'zpytać', 'zapytane', 'zapytatć', 'pytnie', 'zapypytanie', 'pytnaie', 'pytanei']\n",
      "['zwrot', 'zwrotny', 'zwrtot', 'zwrto', 'zwrócić', 'zzwrot', 'zwrocie']\n",
      "['brak', 'brakować', 'wybrakować', 'brakuć']\n",
      "['niekompletny', 'niekomletny', 'niekopletny', 'niekomplet', 'niekoempletne', 'niekompetny', 'niekomplent']\n",
      "['faktura', 'fakura']\n",
      "['inny']\n"
     ]
    }
   ],
   "source": [
    "not_working_keys, final_dict = get_all_values(lem_dict_1, lem_dict_0)"
   ]
  },
  {
   "cell_type": "code",
   "execution_count": 139,
   "metadata": {},
   "outputs": [
    {
     "data": {
      "text/plain": [
       "55"
      ]
     },
     "execution_count": 139,
     "metadata": {},
     "output_type": "execute_result"
    }
   ],
   "source": [
    "len(not_working_keys)"
   ]
  },
  {
   "cell_type": "code",
   "execution_count": 143,
   "metadata": {},
   "outputs": [
    {
     "data": {
      "text/plain": [
       "{'wysyka',\n",
       " 'wysylce',\n",
       " 'wysyłce',\n",
       " 'wysyłka',\n",
       " 'wysyłke',\n",
       " 'wysyłki',\n",
       " 'wysyłką',\n",
       " 'wysyłkę'}"
      ]
     },
     "execution_count": 143,
     "metadata": {},
     "output_type": "execute_result"
    }
   ],
   "source": [
    "final_dict['wysyłka']"
   ]
  },
  {
   "cell_type": "code",
   "execution_count": 141,
   "metadata": {},
   "outputs": [
    {
     "data": {
      "text/plain": [
       "1     anulować\n",
       "2     anulacja\n",
       "3     anulowac\n",
       "4      anulacj\n",
       "5    anulownie\n",
       "Name: anulacja, dtype: object"
      ]
     },
     "execution_count": 141,
     "metadata": {},
     "output_type": "execute_result"
    }
   ],
   "source": [
    "labels_df['anulacja'].head()\n"
   ]
  }
 ],
 "metadata": {
  "kernelspec": {
   "display_name": "Python 3",
   "language": "python",
   "name": "python3"
  },
  "language_info": {
   "codemirror_mode": {
    "name": "ipython",
    "version": 3
   },
   "file_extension": ".py",
   "mimetype": "text/x-python",
   "name": "python",
   "nbconvert_exporter": "python",
   "pygments_lexer": "ipython3",
   "version": "3.11.3"
  },
  "orig_nbformat": 4
 },
 "nbformat": 4,
 "nbformat_minor": 2
}
